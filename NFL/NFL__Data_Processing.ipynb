{
  "nbformat": 4,
  "nbformat_minor": 0,
  "metadata": {
    "colab": {
      "provenance": []
    },
    "kernelspec": {
      "name": "python3",
      "display_name": "Python 3"
    },
    "language_info": {
      "name": "python"
    }
  },
  "cells": [
    {
      "cell_type": "code",
      "execution_count": null,
      "metadata": {
        "id": "HHrasHZzq60T",
        "colab": {
          "base_uri": "https://localhost:8080/"
        },
        "outputId": "5a09ce0c-04ed-4b2a-c167-0cb2edd91716"
      },
      "outputs": [
        {
          "output_type": "stream",
          "name": "stdout",
          "text": [
            "Mounted at /content/drive\n"
          ]
        }
      ],
      "source": [
        "from google.colab import drive\n",
        "drive.mount('/content/drive')"
      ]
    },
    {
      "cell_type": "code",
      "source": [
        "import pandas as pd\n",
        "\n",
        "#Importing NFL stats dataset\n",
        "file_path = '/content/drive/My Drive/Sports Modeling/nfl/full_nfl.csv'\n",
        "data = pd.read_csv(file_path)"
      ],
      "metadata": {
        "colab": {
          "base_uri": "https://localhost:8080/"
        },
        "id": "Thf7Bn85MN1D",
        "outputId": "60879d21-e36d-4f07-d65b-fd0b6dcb1c3e"
      },
      "execution_count": null,
      "outputs": [
        {
          "output_type": "stream",
          "name": "stderr",
          "text": [
            "<ipython-input-2-44bd5e901970>:5: DtypeWarning: Columns (10,442,477,480,488,500,505) have mixed types. Specify dtype option on import or set low_memory=False.\n",
            "  data = pd.read_csv(file_path)\n"
          ]
        }
      ]
    },
    {
      "cell_type": "code",
      "source": [
        "data[['home_name', 'away_name','home_record_wins', 'away_record_wins', 'home_record_losses', 'away_record_losses']].count()"
      ],
      "metadata": {
        "id": "VIibkOBFM03K",
        "colab": {
          "base_uri": "https://localhost:8080/",
          "height": 272
        },
        "outputId": "1be8cda2-1d63-4f22-9010-aa7cd73e9e13"
      },
      "execution_count": null,
      "outputs": [
        {
          "output_type": "execute_result",
          "data": {
            "text/plain": [
              "home_name             6053\n",
              "away_name             6053\n",
              "home_record_wins       824\n",
              "away_record_wins       824\n",
              "home_record_losses     824\n",
              "away_record_losses     824\n",
              "dtype: int64"
            ],
            "text/html": [
              "<div>\n",
              "<style scoped>\n",
              "    .dataframe tbody tr th:only-of-type {\n",
              "        vertical-align: middle;\n",
              "    }\n",
              "\n",
              "    .dataframe tbody tr th {\n",
              "        vertical-align: top;\n",
              "    }\n",
              "\n",
              "    .dataframe thead th {\n",
              "        text-align: right;\n",
              "    }\n",
              "</style>\n",
              "<table border=\"1\" class=\"dataframe\">\n",
              "  <thead>\n",
              "    <tr style=\"text-align: right;\">\n",
              "      <th></th>\n",
              "      <th>0</th>\n",
              "    </tr>\n",
              "  </thead>\n",
              "  <tbody>\n",
              "    <tr>\n",
              "      <th>home_name</th>\n",
              "      <td>6053</td>\n",
              "    </tr>\n",
              "    <tr>\n",
              "      <th>away_name</th>\n",
              "      <td>6053</td>\n",
              "    </tr>\n",
              "    <tr>\n",
              "      <th>home_record_wins</th>\n",
              "      <td>824</td>\n",
              "    </tr>\n",
              "    <tr>\n",
              "      <th>away_record_wins</th>\n",
              "      <td>824</td>\n",
              "    </tr>\n",
              "    <tr>\n",
              "      <th>home_record_losses</th>\n",
              "      <td>824</td>\n",
              "    </tr>\n",
              "    <tr>\n",
              "      <th>away_record_losses</th>\n",
              "      <td>824</td>\n",
              "    </tr>\n",
              "  </tbody>\n",
              "</table>\n",
              "</div><br><label><b>dtype:</b> int64</label>"
            ]
          },
          "metadata": {},
          "execution_count": 3
        }
      ]
    },
    {
      "cell_type": "code",
      "source": [
        "# Count of home_points == away_points (draws)\n",
        "draws_count = (data['home_points'] == data['away_points']).sum()\n",
        "\n",
        "# Count of home_points > away_points (home team wins)\n",
        "home_wins_count = (data['home_points'] > data['away_points']).sum()\n",
        "\n",
        "# Count of home_points < away_points (away team wins)\n",
        "away_wins_count = (data['home_points'] < data['away_points']).sum()\n",
        "\n",
        "# Display the counts\n",
        "print(f\"Draws: {draws_count}\")\n",
        "print(f\"Home Wins: {home_wins_count}\")\n",
        "print(f\"Away Wins: {away_wins_count}\")"
      ],
      "metadata": {
        "colab": {
          "base_uri": "https://localhost:8080/"
        },
        "id": "LqaC_xJMPHj-",
        "outputId": "a1fc5a3c-b9d7-4cad-b618-9ba94dcf3381"
      },
      "execution_count": null,
      "outputs": [
        {
          "output_type": "stream",
          "name": "stdout",
          "text": [
            "Draws: 14\n",
            "Home Wins: 3404\n",
            "Away Wins: 2635\n"
          ]
        }
      ]
    },
    {
      "cell_type": "code",
      "source": [
        "# Count the number of columns\n",
        "num_columns = data.shape[1]\n",
        "\n",
        "# Display the count\n",
        "print(f\"Number of columns in the dataset: {num_columns}\")\n"
      ],
      "metadata": {
        "colab": {
          "base_uri": "https://localhost:8080/"
        },
        "id": "d5WtMZoWQbB9",
        "outputId": "9ee337da-fc43-410c-9af9-9898652c98a5"
      },
      "execution_count": null,
      "outputs": [
        {
          "output_type": "stream",
          "name": "stdout",
          "text": [
            "Number of columns in the dataset: 679\n"
          ]
        }
      ]
    },
    {
      "cell_type": "code",
      "source": [
        "  # Get the count of null values in each column\n",
        "null_counts = data.isnull().sum()\n",
        "\n",
        "# Filter the columns with null values\n",
        "null_counts = null_counts[null_counts > 0]\n",
        "\n",
        "# Display the columns with their respective null value counts\n",
        "print(null_counts)\n",
        "\n",
        "# Optionally, save the null counts to a CSV file for further analysis\n",
        "null_counts.to_csv('null_value_counts.csv', header=['null_counts'])\n",
        "\n",
        "# If you want to download the file, use the following code\n",
        "from google.colab import files\n",
        "files.download('null_value_counts.csv')"
      ],
      "metadata": {
        "colab": {
          "base_uri": "https://localhost:8080/",
          "height": 235
        },
        "id": "LQSTUNsARVqy",
        "outputId": "e20eaa21-461f-455d-fb17-e61c17fca49d"
      },
      "execution_count": null,
      "outputs": [
        {
          "output_type": "stream",
          "name": "stdout",
          "text": [
            "venue_state                                  44\n",
            "venue_zip                                    19\n",
            "home_rushing_totals_longest_touchdown       300\n",
            "home_receiving_totals_longest_touchdown     142\n",
            "home_punts_totals_longest                    40\n",
            "                                           ... \n",
            "BarstoolUnderPayout                        5767\n",
            "BarstoolHomeTeamTotal                      6053\n",
            "BarstoolAwayTeamTotal                      6053\n",
            "BarstoolHomeTeamTotalPayout                6053\n",
            "BarstoolAwayTeamTotalPayout                6053\n",
            "Length: 328, dtype: int64\n"
          ]
        },
        {
          "output_type": "display_data",
          "data": {
            "text/plain": [
              "<IPython.core.display.Javascript object>"
            ],
            "application/javascript": [
              "\n",
              "    async function download(id, filename, size) {\n",
              "      if (!google.colab.kernel.accessAllowed) {\n",
              "        return;\n",
              "      }\n",
              "      const div = document.createElement('div');\n",
              "      const label = document.createElement('label');\n",
              "      label.textContent = `Downloading \"${filename}\": `;\n",
              "      div.appendChild(label);\n",
              "      const progress = document.createElement('progress');\n",
              "      progress.max = size;\n",
              "      div.appendChild(progress);\n",
              "      document.body.appendChild(div);\n",
              "\n",
              "      const buffers = [];\n",
              "      let downloaded = 0;\n",
              "\n",
              "      const channel = await google.colab.kernel.comms.open(id);\n",
              "      // Send a message to notify the kernel that we're ready.\n",
              "      channel.send({})\n",
              "\n",
              "      for await (const message of channel.messages) {\n",
              "        // Send a message to notify the kernel that we're ready.\n",
              "        channel.send({})\n",
              "        if (message.buffers) {\n",
              "          for (const buffer of message.buffers) {\n",
              "            buffers.push(buffer);\n",
              "            downloaded += buffer.byteLength;\n",
              "            progress.value = downloaded;\n",
              "          }\n",
              "        }\n",
              "      }\n",
              "      const blob = new Blob(buffers, {type: 'application/binary'});\n",
              "      const a = document.createElement('a');\n",
              "      a.href = window.URL.createObjectURL(blob);\n",
              "      a.download = filename;\n",
              "      div.appendChild(a);\n",
              "      a.click();\n",
              "      div.remove();\n",
              "    }\n",
              "  "
            ]
          },
          "metadata": {}
        },
        {
          "output_type": "display_data",
          "data": {
            "text/plain": [
              "<IPython.core.display.Javascript object>"
            ],
            "application/javascript": [
              "download(\"download_3b0acdbb-ac2c-4bd0-9ce9-81c362f54165\", \"null_value_counts.csv\", 10763)"
            ]
          },
          "metadata": {}
        }
      ]
    },
    {
      "cell_type": "code",
      "source": [
        "# Calculate the threshold for dropping columns\n",
        "threshold = len(data) / 2  # 50% threshold\n",
        "\n",
        "# Drop columns with more than 50% null values\n",
        "data = data.dropna(thresh=threshold, axis=1)"
      ],
      "metadata": {
        "collapsed": true,
        "id": "rB8mwm2kRzqC"
      },
      "execution_count": null,
      "outputs": []
    },
    {
      "cell_type": "code",
      "source": [
        "# Filter columns with dtype other than numerical (int64, float64)\n",
        "non_numeric_columns = data.select_dtypes(exclude=['int64', 'float64']).columns\n",
        "\n",
        "# Find non-numeric columns with null values and their respective null counts\n",
        "null_counts = data[non_numeric_columns].isnull().sum()\n",
        "\n",
        "# Filter to only include columns that have null values\n",
        "columns_with_nulls = null_counts[null_counts > 0]\n",
        "\n",
        "# Print the columns with their null counts\n",
        "print(columns_with_nulls)"
      ],
      "metadata": {
        "colab": {
          "base_uri": "https://localhost:8080/"
        },
        "id": "jvuk_Kv-SKm_",
        "outputId": "8821a02b-48ad-4a55-fe10-3f4ee8d56d9e"
      },
      "execution_count": null,
      "outputs": [
        {
          "output_type": "stream",
          "name": "stdout",
          "text": [
            "venue_state       44\n",
            "venue_zip         19\n",
            "venue_country    448\n",
            "dtype: int64\n"
          ]
        }
      ]
    },
    {
      "cell_type": "code",
      "source": [
        "# Select columns with dtypes other than numeric (int64, float64)\n",
        "non_numeric_columns = data.select_dtypes(exclude=['int64', 'float64']).columns\n",
        "\n",
        "# Print the non-numeric columns\n",
        "print(non_numeric_columns)"
      ],
      "metadata": {
        "colab": {
          "base_uri": "https://localhost:8080/"
        },
        "id": "XawwIi0sUMdd",
        "outputId": "9a4b1058-e871-4b74-d840-2e11200194c2"
      },
      "execution_count": null,
      "outputs": [
        {
          "output_type": "stream",
          "name": "stdout",
          "text": [
            "Index(['scheduled', 'season_name', 'venue_name', 'venue_city', 'venue_state',\n",
            "       'venue_zip', 'venue_address', 'venue_surface', 'venue_roof_type',\n",
            "       'home_name', 'home_market', 'home_alias', 'away_name', 'away_market',\n",
            "       'away_alias', 'home_possession_time', 'away_possession_time',\n",
            "       'venue_country', 'time'],\n",
            "      dtype='object')\n"
          ]
        }
      ]
    },
    {
      "cell_type": "code",
      "source": [
        "# List of columns to remove which has least relevance with prediction variable\n",
        "columns_to_remove = [\n",
        "    'scheduled', 'season_name', 'venue_state', 'venue_zip', 'venue_address',\n",
        "    'home_market', 'home_alias', 'away_market', 'away_alias', 'venue_country', 'time'\n",
        "]\n",
        "\n",
        "# Drop the specified columns\n",
        "data = data.drop(columns=columns_to_remove)"
      ],
      "metadata": {
        "id": "i63LL7tnWmOh"
      },
      "execution_count": null,
      "outputs": []
    },
    {
      "cell_type": "code",
      "source": [
        "# Get the count of null values in each column\n",
        "null_counts = data.isnull().sum()\n",
        "\n",
        "# Filter the columns with null values\n",
        "null_columns = null_counts[null_counts > 0].index.tolist()\n",
        "\n",
        "# Display the columns with their respective null value counts\n",
        "print(null_columns)"
      ],
      "metadata": {
        "colab": {
          "base_uri": "https://localhost:8080/"
        },
        "id": "m9NKWjRPWx20",
        "outputId": "4809941c-32e1-4906-f38e-cf25650baae0"
      },
      "execution_count": null,
      "outputs": [
        {
          "output_type": "stream",
          "name": "stdout",
          "text": [
            "['home_rushing_totals_longest_touchdown', 'home_receiving_totals_longest_touchdown', 'home_punts_totals_longest', 'home_punt_returns_totals_longest', 'home_punt_returns_totals_longest_touchdown', 'home_passing_totals_longest_touchdown', 'home_kick_returns_totals_longest', 'home_kick_returns_totals_longest_touchdown', 'home_field_goals_totals_longest', 'home_extra_points_conversions_totals_turnover_successes', 'away_rushing_totals_longest_touchdown', 'away_receiving_totals_longest_touchdown', 'away_punts_totals_longest', 'away_punt_returns_totals_longest', 'away_punt_returns_totals_longest_touchdown', 'away_passing_totals_longest_touchdown', 'away_kick_returns_totals_longest', 'away_kick_returns_totals_longest_touchdown', 'away_field_goals_totals_longest', 'away_extra_points_conversions_totals_turnover_successes', 'venue_location_lat', 'venue_location_lng', 'home_int_returns_totals_longest', 'home_int_returns_totals_longest_touchdown', 'away_kickoffs_totals_onside_attempts', 'away_kickoffs_totals_onside_successes', 'away_kickoffs_totals_squib_kicks', 'away_int_returns_totals_longest', 'away_int_returns_totals_longest_touchdown', 'away_defense_totals_def_targets', 'away_defense_totals_def_comps', 'away_defense_totals_blitzes', 'away_defense_totals_hurries', 'away_defense_totals_knockdowns', 'away_defense_totals_missed_tackles', 'home_kickoffs_totals_onside_attempts', 'home_kickoffs_totals_onside_successes', 'home_kickoffs_totals_squib_kicks', 'home_defense_totals_def_targets', 'home_defense_totals_def_comps', 'home_defense_totals_blitzes', 'home_defense_totals_hurries', 'home_defense_totals_knockdowns', 'home_defense_totals_missed_tackles', 'home_rushing_totals_broken_tackles', 'home_rushing_totals_kneel_downs', 'home_rushing_totals_scrambles', 'home_rushing_totals_yards_after_contact', 'home_receiving_totals_broken_tackles', 'home_receiving_totals_dropped_passes', 'home_receiving_totals_catchable_passes', 'home_receiving_totals_yards_after_contact', 'home_passing_totals_throw_aways', 'home_passing_totals_defended_passes', 'home_passing_totals_dropped_passes', 'home_passing_totals_spikes', 'home_passing_totals_blitzes', 'home_passing_totals_hurries', 'home_passing_totals_knockdowns', 'away_rushing_totals_broken_tackles', 'away_rushing_totals_kneel_downs', 'away_rushing_totals_scrambles', 'away_rushing_totals_yards_after_contact', 'away_receiving_totals_broken_tackles', 'away_receiving_totals_dropped_passes', 'away_receiving_totals_catchable_passes', 'away_receiving_totals_yards_after_contact', 'away_passing_totals_throw_aways', 'away_passing_totals_defended_passes', 'away_passing_totals_dropped_passes', 'away_passing_totals_spikes', 'away_passing_totals_blitzes', 'away_passing_totals_hurries', 'away_passing_totals_knockdowns', 'home_passing_totals_pocket_time', 'home_punts_totals_hang_time', 'home_punts_totals_avg_hang_time', 'away_punts_totals_hang_time', 'away_punts_totals_avg_hang_time', 'away_passing_totals_pocket_time']\n"
          ]
        }
      ]
    },
    {
      "cell_type": "markdown",
      "source": [
        "### Finding Skewed and Symmetric columns"
      ],
      "metadata": {
        "id": "ZeGVqSDCZnG6"
      }
    },
    {
      "cell_type": "code",
      "source": [
        "# Identify columns with null values\n",
        "null_columns = data.columns[data.isnull().any()].tolist()\n",
        "\n",
        "# Calculate skewness for numeric columns\n",
        "skewness = data.select_dtypes(include=['int64', 'float64']).skew()\n",
        "\n",
        "# Define threshold for symmetric columns\n",
        "threshold = 0.5\n",
        "\n",
        "# Identify symmetric and skewed columns\n",
        "symmetric_columns = skewness[abs(skewness) < threshold].index.tolist()\n",
        "skewed_columns = skewness[abs(skewness) >= threshold].index.tolist()\n",
        "\n",
        "# Find columns that are symmetric with null values\n",
        "symmetric_with_nulls = [col for col in symmetric_columns if col in null_columns]\n",
        "\n",
        "# Find columns that are skewed with null values\n",
        "skewed_with_nulls = [col for col in skewed_columns if col in null_columns]\n",
        "\n",
        "# Print the results\n",
        "print(\"Columns with null values that are symmetric:\")\n",
        "print(symmetric_with_nulls)\n",
        "\n",
        "print(\"\\nColumns with null values that are skewed:\")\n",
        "print(skewed_with_nulls)"
      ],
      "metadata": {
        "colab": {
          "base_uri": "https://localhost:8080/"
        },
        "id": "S3Pj27PZbOBG",
        "outputId": "183090ae-c232-479e-9f82-6e684877d213"
      },
      "execution_count": null,
      "outputs": [
        {
          "output_type": "stream",
          "name": "stdout",
          "text": [
            "Columns with null values that are symmetric:\n",
            "['home_punts_totals_longest', 'home_extra_points_conversions_totals_turnover_successes', 'away_punts_totals_longest', 'away_extra_points_conversions_totals_turnover_successes', 'home_passing_totals_blitzes', 'away_passing_totals_blitzes', 'home_passing_totals_pocket_time', 'home_punts_totals_hang_time', 'away_punts_totals_hang_time', 'away_passing_totals_pocket_time']\n",
            "\n",
            "Columns with null values that are skewed:\n",
            "['home_rushing_totals_longest_touchdown', 'home_receiving_totals_longest_touchdown', 'home_punt_returns_totals_longest', 'home_punt_returns_totals_longest_touchdown', 'home_passing_totals_longest_touchdown', 'home_kick_returns_totals_longest', 'home_kick_returns_totals_longest_touchdown', 'home_field_goals_totals_longest', 'away_rushing_totals_longest_touchdown', 'away_receiving_totals_longest_touchdown', 'away_punt_returns_totals_longest', 'away_punt_returns_totals_longest_touchdown', 'away_passing_totals_longest_touchdown', 'away_kick_returns_totals_longest', 'away_kick_returns_totals_longest_touchdown', 'away_field_goals_totals_longest', 'venue_location_lat', 'venue_location_lng', 'home_int_returns_totals_longest', 'home_int_returns_totals_longest_touchdown', 'away_kickoffs_totals_onside_attempts', 'away_kickoffs_totals_onside_successes', 'away_kickoffs_totals_squib_kicks', 'away_int_returns_totals_longest', 'away_int_returns_totals_longest_touchdown', 'away_defense_totals_def_targets', 'away_defense_totals_def_comps', 'away_defense_totals_blitzes', 'away_defense_totals_hurries', 'away_defense_totals_knockdowns', 'away_defense_totals_missed_tackles', 'home_kickoffs_totals_onside_attempts', 'home_kickoffs_totals_onside_successes', 'home_kickoffs_totals_squib_kicks', 'home_defense_totals_def_targets', 'home_defense_totals_def_comps', 'home_defense_totals_blitzes', 'home_defense_totals_hurries', 'home_defense_totals_knockdowns', 'home_defense_totals_missed_tackles', 'home_rushing_totals_broken_tackles', 'home_rushing_totals_kneel_downs', 'home_rushing_totals_scrambles', 'home_rushing_totals_yards_after_contact', 'home_receiving_totals_broken_tackles', 'home_receiving_totals_dropped_passes', 'home_receiving_totals_catchable_passes', 'home_receiving_totals_yards_after_contact', 'home_passing_totals_throw_aways', 'home_passing_totals_defended_passes', 'home_passing_totals_dropped_passes', 'home_passing_totals_spikes', 'home_passing_totals_hurries', 'home_passing_totals_knockdowns', 'away_rushing_totals_broken_tackles', 'away_rushing_totals_kneel_downs', 'away_rushing_totals_scrambles', 'away_rushing_totals_yards_after_contact', 'away_receiving_totals_broken_tackles', 'away_receiving_totals_dropped_passes', 'away_receiving_totals_catchable_passes', 'away_receiving_totals_yards_after_contact', 'away_passing_totals_throw_aways', 'away_passing_totals_defended_passes', 'away_passing_totals_dropped_passes', 'away_passing_totals_spikes', 'away_passing_totals_hurries', 'away_passing_totals_knockdowns', 'home_punts_totals_avg_hang_time', 'away_punts_totals_avg_hang_time']\n"
          ]
        }
      ]
    },
    {
      "cell_type": "markdown",
      "source": [
        "### Imputing null values"
      ],
      "metadata": {
        "id": "xr-gzJSjZa2m"
      }
    },
    {
      "cell_type": "code",
      "source": [
        "from sklearn.impute import SimpleImputer\n",
        "import numpy as np\n",
        "\n",
        "# Filter out columns with insufficient data for imputation\n",
        "symmetric_with_nulls = [col for col in symmetric_with_nulls if data[col].notnull().any()]\n",
        "skewed_with_nulls = [col for col in skewed_with_nulls if data[col].notnull().any()]\n",
        "\n",
        "# Calculate overall column means and medians for fallback\n",
        "overall_means = data[symmetric_with_nulls].mean()\n",
        "overall_medians = data[skewed_with_nulls].median()\n",
        "\n",
        "# Define the imputation function\n",
        "def impute_group(group, symmetric_cols, skewed_cols, overall_means, overall_medians):\n",
        "    # Impute symmetric columns\n",
        "    for col in symmetric_cols:\n",
        "        if group[col].isnull().any():\n",
        "            if group[col].notnull().sum() > 0:  # Use group-specific mean if possible\n",
        "                mean_imputer = SimpleImputer(strategy='mean')\n",
        "                group[col] = mean_imputer.fit_transform(group[[col]]).ravel()\n",
        "            else:\n",
        "                group[col] = group[col].fillna(overall_means[col])  # Fallback to overall mean\n",
        "\n",
        "    # Impute skewed columns\n",
        "    for col in skewed_cols:\n",
        "        if group[col].isnull().any():\n",
        "            if group[col].notnull().sum() > 0:  # Use group-specific median if possible\n",
        "                median_imputer = SimpleImputer(strategy='median')\n",
        "                group[col] = median_imputer.fit_transform(group[[col]]).ravel()\n",
        "            else:\n",
        "                group[col] = group[col].fillna(overall_medians[col])  # Fallback to overall median\n",
        "\n",
        "    return group\n",
        "\n",
        "# Apply the imputation based on 'home_name' and 'away_name'\n",
        "try:\n",
        "    data_imputed = data.groupby(['home_name', 'away_name'], group_keys=False).apply(\n",
        "        lambda group: impute_group(group, symmetric_with_nulls, skewed_with_nulls, overall_means, overall_medians)\n",
        "    ).reset_index(drop=True)\n",
        "except ValueError as e:\n",
        "    print(f\"An error occurred during imputation: {e}\")"
      ],
      "metadata": {
        "collapsed": true,
        "id": "jiUxzVvSbN6P"
      },
      "execution_count": null,
      "outputs": []
    },
    {
      "cell_type": "code",
      "source": [
        "# Save the imputed DataFrame to a CSV file\n",
        "data_imputed.to_csv('imputed_data.csv', index=False)"
      ],
      "metadata": {
        "id": "YEzsOBRSbN2o"
      },
      "execution_count": null,
      "outputs": []
    }
  ]
}