{
  "nbformat": 4,
  "nbformat_minor": 0,
  "metadata": {
    "colab": {
      "provenance": []
    },
    "kernelspec": {
      "name": "python3",
      "display_name": "Python 3"
    },
    "language_info": {
      "name": "python"
    }
  },
  "cells": [
    {
      "cell_type": "code",
      "execution_count": 1,
      "metadata": {
        "colab": {
          "base_uri": "https://localhost:8080/"
        },
        "id": "WSrqJID6JbHq",
        "outputId": "6f385088-35fc-4e6f-919b-070143e5944a"
      },
      "outputs": [
        {
          "output_type": "stream",
          "name": "stdout",
          "text": [
            "Mounted at /content/drive\n"
          ]
        }
      ],
      "source": [
        "from google.colab import drive\n",
        "drive.mount('/content/drive')"
      ]
    },
    {
      "cell_type": "code",
      "source": [
        "import pandas as pd\n",
        "\n",
        "file_path = '/content/drive/My Drive/Sports Modeling/mlb/mlb_proccessed_v1.csv'\n",
        "df = pd.read_csv(file_path)"
      ],
      "metadata": {
        "colab": {
          "base_uri": "https://localhost:8080/"
        },
        "id": "ygdw-LC8K3Md",
        "outputId": "89d58c2c-5dc6-4325-f3e0-338c24662d36"
      },
      "execution_count": 2,
      "outputs": [
        {
          "output_type": "stream",
          "name": "stderr",
          "text": [
            "<ipython-input-2-63933633908f>:4: DtypeWarning: Columns (4,323,332,337,465,529,596,600,602,604,608,610,719,720,721,722,723,724,725,726) have mixed types. Specify dtype option on import or set low_memory=False.\n",
            "  df = pd.read_csv(file_path)\n"
          ]
        }
      ]
    },
    {
      "cell_type": "code",
      "source": [
        "print(df.columns.tolist())\n"
      ],
      "metadata": {
        "colab": {
          "base_uri": "https://localhost:8080/"
        },
        "id": "AjV8c8aRK3Kw",
        "outputId": "09b1f2c4-f7ff-4dd8-b9a7-bfec3eb77e38"
      },
      "execution_count": 3,
      "outputs": [
        {
          "output_type": "stream",
          "name": "stdout",
          "text": [
            "['id', 'status', 'scheduled', 'attendance', 'split_squad', 'final_inning', 'final_inning_half', 'home_name', 'home_runs', 'home_hits', 'home_errors', 'home_win', 'home_loss', 'home_scoring', 'home_hitting_overall_ab', 'home_hitting_overall_lob', 'home_hitting_overall_rbi', 'home_hitting_overall_abhr', 'home_hitting_overall_abk', 'home_hitting_overall_bip', 'home_hitting_overall_babip', 'home_hitting_overall_bbk', 'home_hitting_overall_bbpa', 'home_hitting_overall_iso', 'home_hitting_overall_obp', 'home_hitting_overall_ops', 'home_hitting_overall_seca', 'home_hitting_overall_slg', 'home_hitting_overall_xbh', 'home_hitting_overall_pitch_count', 'home_hitting_overall_lob_risp_2out', 'home_hitting_overall_team_lob', 'home_hitting_overall_ab_risp', 'home_hitting_overall_hit_risp', 'home_hitting_overall_rbi_2out', 'home_hitting_overall_linedrive', 'home_hitting_overall_groundball', 'home_hitting_overall_popup', 'home_hitting_overall_flyball', 'home_hitting_overall_ap', 'home_hitting_overall_avg', 'home_hitting_overall_gofo', 'home_hitting_overall_onbase_s', 'home_hitting_overall_onbase_d', 'home_hitting_overall_onbase_t', 'home_hitting_overall_onbase_hr', 'home_hitting_overall_onbase_tb', 'home_hitting_overall_onbase_bb', 'home_hitting_overall_onbase_ibb', 'home_hitting_overall_onbase_hbp', 'home_hitting_overall_onbase_fc', 'home_hitting_overall_onbase_roe', 'home_hitting_overall_onbase_h', 'home_hitting_overall_onbase_cycle', 'home_hitting_overall_runs_total', 'home_hitting_overall_outcome_klook', 'home_hitting_overall_outcome_kswing', 'home_hitting_overall_outcome_ktotal', 'home_hitting_overall_outcome_ball', 'home_hitting_overall_outcome_iball', 'home_hitting_overall_outcome_dirtball', 'home_hitting_overall_outcome_foul', 'home_hitting_overall_outs_po', 'home_hitting_overall_outs_fo', 'home_hitting_overall_outs_fidp', 'home_hitting_overall_outs_lo', 'home_hitting_overall_outs_lidp', 'home_hitting_overall_outs_go', 'home_hitting_overall_outs_gidp', 'home_hitting_overall_outs_klook', 'home_hitting_overall_outs_kswing', 'home_hitting_overall_outs_ktotal', 'home_hitting_overall_outs_sacfly', 'home_hitting_overall_outs_sachit', 'home_hitting_overall_steal_caught', 'home_hitting_overall_steal_stolen', 'home_hitting_overall_steal_pct', 'home_hitting_overall_steal_pickoff', 'home_pitching_overall_oba', 'home_pitching_overall_lob', 'home_pitching_overall_era', 'home_pitching_overall_k9', 'home_pitching_overall_whip', 'home_pitching_overall_pitch_count', 'home_pitching_overall_wp', 'home_pitching_overall_bk', 'home_pitching_overall_ip_1', 'home_pitching_overall_ip_2', 'home_pitching_overall_bf', 'home_pitching_overall_gofo', 'home_pitching_overall_babip', 'home_pitching_overall_bf_ip', 'home_pitching_overall_gbfb', 'home_pitching_overall_oab', 'home_pitching_overall_slg', 'home_pitching_overall_obp', 'home_pitching_overall_onbase_s', 'home_pitching_overall_onbase_d', 'home_pitching_overall_onbase_t', 'home_pitching_overall_onbase_hr', 'home_pitching_overall_onbase_tb', 'home_pitching_overall_onbase_bb', 'home_pitching_overall_onbase_ibb', 'home_pitching_overall_onbase_hbp', 'home_pitching_overall_onbase_fc', 'home_pitching_overall_onbase_roe', 'home_pitching_overall_onbase_h', 'home_pitching_overall_runs_total', 'home_pitching_overall_runs_unearned', 'home_pitching_overall_runs_earned', 'home_pitching_overall_outcome_klook', 'home_pitching_overall_outcome_kswing', 'home_pitching_overall_outcome_ktotal', 'home_pitching_overall_outcome_ball', 'home_pitching_overall_outcome_iball', 'home_pitching_overall_outcome_dirtball', 'home_pitching_overall_outcome_foul', 'home_pitching_overall_outs_po', 'home_pitching_overall_outs_fo', 'home_pitching_overall_outs_fidp', 'home_pitching_overall_outs_lo', 'home_pitching_overall_outs_lidp', 'home_pitching_overall_outs_go', 'home_pitching_overall_outs_gidp', 'home_pitching_overall_outs_klook', 'home_pitching_overall_outs_kswing', 'home_pitching_overall_outs_ktotal', 'home_pitching_overall_outs_sacfly', 'home_pitching_overall_outs_sachit', 'home_pitching_overall_steal_caught', 'home_pitching_overall_steal_stolen', 'home_pitching_overall_steal_pickoff', 'home_pitching_overall_games_svo', 'home_pitching_overall_games_qstart', 'home_pitching_overall_games_shutout', 'home_pitching_overall_games_win', 'home_pitching_overall_games_loss', 'home_pitching_overall_games_save', 'home_pitching_overall_games_hold', 'home_pitching_overall_games_blown_save', 'home_fielding_overall_po', 'home_fielding_overall_a', 'home_fielding_overall_dp', 'home_fielding_overall_tp', 'home_fielding_overall_error', 'home_fielding_overall_tc', 'home_fielding_overall_fpct', 'home_fielding_overall_c_wp', 'home_fielding_overall_pb', 'home_fielding_overall_steal_caught', 'home_fielding_overall_steal_stolen', 'home_fielding_overall_steal_pickoff', 'home_fielding_overall_steal_pct', 'home_fielding_overall_errors_throwing', 'home_fielding_overall_errors_fielding', 'home_fielding_overall_errors_interference', 'home_fielding_overall_errors_total', 'away_name', 'away_runs', 'away_hits', 'away_errors', 'away_scoring', 'away_hitting_overall_ab', 'away_hitting_overall_lob', 'away_hitting_overall_rbi', 'away_hitting_overall_abhr', 'away_hitting_overall_abk', 'away_hitting_overall_bip', 'away_hitting_overall_babip', 'away_hitting_overall_bbk', 'away_hitting_overall_bbpa', 'away_hitting_overall_iso', 'away_hitting_overall_obp', 'away_hitting_overall_ops', 'away_hitting_overall_seca', 'away_hitting_overall_slg', 'away_hitting_overall_xbh', 'away_hitting_overall_pitch_count', 'away_hitting_overall_lob_risp_2out', 'away_hitting_overall_team_lob', 'away_hitting_overall_ab_risp', 'away_hitting_overall_hit_risp', 'away_hitting_overall_rbi_2out', 'away_hitting_overall_linedrive', 'away_hitting_overall_groundball', 'away_hitting_overall_popup', 'away_hitting_overall_flyball', 'away_hitting_overall_ap', 'away_hitting_overall_avg', 'away_hitting_overall_gofo', 'away_hitting_overall_onbase_s', 'away_hitting_overall_onbase_d', 'away_hitting_overall_onbase_t', 'away_hitting_overall_onbase_hr', 'away_hitting_overall_onbase_tb', 'away_hitting_overall_onbase_bb', 'away_hitting_overall_onbase_ibb', 'away_hitting_overall_onbase_hbp', 'away_hitting_overall_onbase_fc', 'away_hitting_overall_onbase_roe', 'away_hitting_overall_onbase_h', 'away_hitting_overall_onbase_cycle', 'away_hitting_overall_runs_total', 'away_hitting_overall_outcome_klook', 'away_hitting_overall_outcome_kswing', 'away_hitting_overall_outcome_ktotal', 'away_hitting_overall_outcome_ball', 'away_hitting_overall_outcome_iball', 'away_hitting_overall_outcome_dirtball', 'away_hitting_overall_outcome_foul', 'away_hitting_overall_outs_po', 'away_hitting_overall_outs_fo', 'away_hitting_overall_outs_fidp', 'away_hitting_overall_outs_lo', 'away_hitting_overall_outs_lidp', 'away_hitting_overall_outs_go', 'away_hitting_overall_outs_gidp', 'away_hitting_overall_outs_klook', 'away_hitting_overall_outs_kswing', 'away_hitting_overall_outs_ktotal', 'away_hitting_overall_outs_sacfly', 'away_hitting_overall_outs_sachit', 'away_hitting_overall_steal_caught', 'away_hitting_overall_steal_stolen', 'away_hitting_overall_steal_pct', 'away_hitting_overall_steal_pickoff', 'away_pitching_overall_oba', 'away_pitching_overall_lob', 'away_pitching_overall_era', 'away_pitching_overall_k9', 'away_pitching_overall_whip', 'away_pitching_overall_pitch_count', 'away_pitching_overall_wp', 'away_pitching_overall_bk', 'away_pitching_overall_ip_1', 'away_pitching_overall_ip_2', 'away_pitching_overall_bf', 'away_pitching_overall_gofo', 'away_pitching_overall_babip', 'away_pitching_overall_bf_ip', 'away_pitching_overall_gbfb', 'away_pitching_overall_oab', 'away_pitching_overall_slg', 'away_pitching_overall_obp', 'away_pitching_overall_onbase_s', 'away_pitching_overall_onbase_d', 'away_pitching_overall_onbase_t', 'away_pitching_overall_onbase_hr', 'away_pitching_overall_onbase_tb', 'away_pitching_overall_onbase_bb', 'away_pitching_overall_onbase_ibb', 'away_pitching_overall_onbase_hbp', 'away_pitching_overall_onbase_fc', 'away_pitching_overall_onbase_roe', 'away_pitching_overall_onbase_h', 'away_pitching_overall_runs_total', 'away_pitching_overall_runs_unearned', 'away_pitching_overall_runs_earned', 'away_pitching_overall_outcome_klook', 'away_pitching_overall_outcome_kswing', 'away_pitching_overall_outcome_ktotal', 'away_pitching_overall_outcome_ball', 'away_pitching_overall_outcome_iball', 'away_pitching_overall_outcome_dirtball', 'away_pitching_overall_outcome_foul', 'away_pitching_overall_outs_po', 'away_pitching_overall_outs_fo', 'away_pitching_overall_outs_fidp', 'away_pitching_overall_outs_lo', 'away_pitching_overall_outs_lidp', 'away_pitching_overall_outs_go', 'away_pitching_overall_outs_gidp', 'away_pitching_overall_outs_klook', 'away_pitching_overall_outs_kswing', 'away_pitching_overall_outs_ktotal', 'away_pitching_overall_outs_sacfly', 'away_pitching_overall_outs_sachit', 'away_pitching_overall_steal_caught', 'away_pitching_overall_steal_stolen', 'away_pitching_overall_steal_pickoff', 'away_pitching_overall_games_svo', 'away_pitching_overall_games_qstart', 'away_pitching_overall_games_shutout', 'away_pitching_overall_games_win', 'away_pitching_overall_games_loss', 'away_pitching_overall_games_save', 'away_pitching_overall_games_hold', 'away_pitching_overall_games_blown_save', 'away_fielding_overall_po', 'away_fielding_overall_a', 'away_fielding_overall_dp', 'away_fielding_overall_tp', 'away_fielding_overall_error', 'away_fielding_overall_tc', 'away_fielding_overall_fpct', 'away_fielding_overall_c_wp', 'away_fielding_overall_pb', 'away_fielding_overall_steal_caught', 'away_fielding_overall_steal_stolen', 'away_fielding_overall_steal_pickoff', 'away_fielding_overall_steal_pct', 'away_fielding_overall_errors_throwing', 'away_fielding_overall_errors_fielding', 'away_fielding_overall_errors_interference', 'away_fielding_overall_errors_total', 'officials', 'away_win', 'away_loss', 'pitching_win_status', 'pitching_win_save', 'pitching_win_hold', 'pitching_win_blown_save', 'pitching_loss_status', 'pitching_loss_save', 'pitching_loss_hold', 'pitching_loss_blown_save', 'pitching_hold', 'pitching_save_status', 'pitching_save_win', 'pitching_save_loss', 'pitching_save_hold', 'pitching_save_blown_save', 'pitching_blown_save', 'message', 'duration', 'rescheduled', 'home_pitching_overall_kbb', 'home_pitching_overall_games_team_shutout', 'home_pitching_overall_games_complete', 'away_pitching_overall_kbb', 'away_pitching_overall_games_team_shutout', 'away_pitching_overall_games_complete', 'season_type', 'season_year', 'reference', 'home_pitching_starters_oba', 'home_pitching_starters_lob', 'home_pitching_starters_era', 'home_pitching_starters_k9', 'home_pitching_starters_whip', 'home_pitching_starters_kbb', 'home_pitching_starters_pitch_count', 'home_pitching_starters_wp', 'home_pitching_starters_bk', 'home_pitching_starters_ip_1', 'home_pitching_starters_ip_2', 'home_pitching_starters_bf', 'home_pitching_starters_gofo', 'home_pitching_starters_babip', 'home_pitching_starters_bf_ip', 'home_pitching_starters_gbfb', 'home_pitching_starters_oab', 'home_pitching_starters_slg', 'home_pitching_starters_obp', 'home_pitching_starters_onbase_s', 'home_pitching_starters_onbase_d', 'home_pitching_starters_onbase_t', 'home_pitching_starters_onbase_hr', 'home_pitching_starters_onbase_tb', 'home_pitching_starters_onbase_bb', 'home_pitching_starters_onbase_ibb', 'home_pitching_starters_onbase_hbp', 'home_pitching_starters_onbase_fc', 'home_pitching_starters_onbase_roe', 'home_pitching_starters_onbase_h', 'home_pitching_starters_runs_total', 'home_pitching_starters_runs_unearned', 'home_pitching_starters_runs_earned', 'home_pitching_starters_outcome_klook', 'home_pitching_starters_outcome_kswing', 'home_pitching_starters_outcome_ktotal', 'home_pitching_starters_outcome_ball', 'home_pitching_starters_outcome_iball', 'home_pitching_starters_outcome_dirtball', 'home_pitching_starters_outcome_foul', 'home_pitching_starters_outs_po', 'home_pitching_starters_outs_fo', 'home_pitching_starters_outs_fidp', 'home_pitching_starters_outs_lo', 'home_pitching_starters_outs_lidp', 'home_pitching_starters_outs_go', 'home_pitching_starters_outs_gidp', 'home_pitching_starters_outs_klook', 'home_pitching_starters_outs_kswing', 'home_pitching_starters_outs_ktotal', 'home_pitching_starters_outs_sacfly', 'home_pitching_starters_outs_sachit', 'home_pitching_starters_steal_caught', 'home_pitching_starters_steal_stolen', 'home_pitching_starters_steal_pickoff', 'home_pitching_starters_games_svo', 'home_pitching_starters_games_qstart', 'home_pitching_starters_games_shutout', 'home_pitching_starters_games_complete', 'home_pitching_starters_games_win', 'home_pitching_starters_games_loss', 'home_pitching_starters_games_save', 'home_pitching_starters_games_hold', 'home_pitching_starters_games_blown_save', 'home_pitching_bullpen_oba', 'home_pitching_bullpen_lob', 'home_pitching_bullpen_era', 'home_pitching_bullpen_k9', 'home_pitching_bullpen_whip', 'home_pitching_bullpen_kbb', 'home_pitching_bullpen_pitch_count', 'home_pitching_bullpen_wp', 'home_pitching_bullpen_bk', 'home_pitching_bullpen_ip_1', 'home_pitching_bullpen_ip_2', 'home_pitching_bullpen_bf', 'home_pitching_bullpen_gofo', 'home_pitching_bullpen_babip', 'home_pitching_bullpen_bf_ip', 'home_pitching_bullpen_gbfb', 'home_pitching_bullpen_oab', 'home_pitching_bullpen_slg', 'home_pitching_bullpen_obp', 'home_pitching_bullpen_onbase_s', 'home_pitching_bullpen_onbase_d', 'home_pitching_bullpen_onbase_t', 'home_pitching_bullpen_onbase_hr', 'home_pitching_bullpen_onbase_tb', 'home_pitching_bullpen_onbase_bb', 'home_pitching_bullpen_onbase_ibb', 'home_pitching_bullpen_onbase_hbp', 'home_pitching_bullpen_onbase_fc', 'home_pitching_bullpen_onbase_roe', 'home_pitching_bullpen_onbase_h', 'home_pitching_bullpen_runs_total', 'home_pitching_bullpen_runs_unearned', 'home_pitching_bullpen_runs_earned', 'home_pitching_bullpen_outcome_klook', 'home_pitching_bullpen_outcome_kswing', 'home_pitching_bullpen_outcome_ktotal', 'home_pitching_bullpen_outcome_ball', 'home_pitching_bullpen_outcome_iball', 'home_pitching_bullpen_outcome_dirtball', 'home_pitching_bullpen_outcome_foul', 'home_pitching_bullpen_outs_po', 'home_pitching_bullpen_outs_fo', 'home_pitching_bullpen_outs_fidp', 'home_pitching_bullpen_outs_lo', 'home_pitching_bullpen_outs_lidp', 'home_pitching_bullpen_outs_go', 'home_pitching_bullpen_outs_gidp', 'home_pitching_bullpen_outs_klook', 'home_pitching_bullpen_outs_kswing', 'home_pitching_bullpen_outs_ktotal', 'home_pitching_bullpen_outs_sacfly', 'home_pitching_bullpen_outs_sachit', 'home_pitching_bullpen_steal_caught', 'home_pitching_bullpen_steal_stolen', 'home_pitching_bullpen_steal_pickoff', 'home_pitching_bullpen_games_svo', 'home_pitching_bullpen_games_qstart', 'home_pitching_bullpen_games_shutout', 'home_pitching_bullpen_games_complete', 'home_pitching_bullpen_games_win', 'home_pitching_bullpen_games_loss', 'home_pitching_bullpen_games_save', 'home_pitching_bullpen_games_hold', 'home_pitching_bullpen_games_blown_save', 'away_pitching_starters_oba', 'away_pitching_starters_lob', 'away_pitching_starters_era', 'away_pitching_starters_k9', 'away_pitching_starters_whip', 'away_pitching_starters_kbb', 'away_pitching_starters_pitch_count', 'away_pitching_starters_wp', 'away_pitching_starters_bk', 'away_pitching_starters_ip_1', 'away_pitching_starters_ip_2', 'away_pitching_starters_bf', 'away_pitching_starters_gofo', 'away_pitching_starters_babip', 'away_pitching_starters_bf_ip', 'away_pitching_starters_gbfb', 'away_pitching_starters_oab', 'away_pitching_starters_slg', 'away_pitching_starters_obp', 'away_pitching_starters_onbase_s', 'away_pitching_starters_onbase_d', 'away_pitching_starters_onbase_t', 'away_pitching_starters_onbase_hr', 'away_pitching_starters_onbase_tb', 'away_pitching_starters_onbase_bb', 'away_pitching_starters_onbase_ibb', 'away_pitching_starters_onbase_hbp', 'away_pitching_starters_onbase_fc', 'away_pitching_starters_onbase_roe', 'away_pitching_starters_onbase_h', 'away_pitching_starters_runs_total', 'away_pitching_starters_runs_unearned', 'away_pitching_starters_runs_earned', 'away_pitching_starters_outcome_klook', 'away_pitching_starters_outcome_kswing', 'away_pitching_starters_outcome_ktotal', 'away_pitching_starters_outcome_ball', 'away_pitching_starters_outcome_iball', 'away_pitching_starters_outcome_dirtball', 'away_pitching_starters_outcome_foul', 'away_pitching_starters_outs_po', 'away_pitching_starters_outs_fo', 'away_pitching_starters_outs_fidp', 'away_pitching_starters_outs_lo', 'away_pitching_starters_outs_lidp', 'away_pitching_starters_outs_go', 'away_pitching_starters_outs_gidp', 'away_pitching_starters_outs_klook', 'away_pitching_starters_outs_kswing', 'away_pitching_starters_outs_ktotal', 'away_pitching_starters_outs_sacfly', 'away_pitching_starters_outs_sachit', 'away_pitching_starters_steal_caught', 'away_pitching_starters_steal_stolen', 'away_pitching_starters_steal_pickoff', 'away_pitching_starters_games_svo', 'away_pitching_starters_games_qstart', 'away_pitching_starters_games_shutout', 'away_pitching_starters_games_complete', 'away_pitching_starters_games_win', 'away_pitching_starters_games_loss', 'away_pitching_starters_games_save', 'away_pitching_starters_games_hold', 'away_pitching_starters_games_blown_save', 'away_pitching_bullpen_oba', 'away_pitching_bullpen_lob', 'away_pitching_bullpen_era', 'away_pitching_bullpen_k9', 'away_pitching_bullpen_whip', 'away_pitching_bullpen_kbb', 'away_pitching_bullpen_pitch_count', 'away_pitching_bullpen_wp', 'away_pitching_bullpen_bk', 'away_pitching_bullpen_ip_1', 'away_pitching_bullpen_ip_2', 'away_pitching_bullpen_bf', 'away_pitching_bullpen_gofo', 'away_pitching_bullpen_babip', 'away_pitching_bullpen_bf_ip', 'away_pitching_bullpen_gbfb', 'away_pitching_bullpen_oab', 'away_pitching_bullpen_slg', 'away_pitching_bullpen_obp', 'away_pitching_bullpen_onbase_s', 'away_pitching_bullpen_onbase_d', 'away_pitching_bullpen_onbase_t', 'away_pitching_bullpen_onbase_hr', 'away_pitching_bullpen_onbase_tb', 'away_pitching_bullpen_onbase_bb', 'away_pitching_bullpen_onbase_ibb', 'away_pitching_bullpen_onbase_hbp', 'away_pitching_bullpen_onbase_fc', 'away_pitching_bullpen_onbase_roe', 'away_pitching_bullpen_onbase_h', 'away_pitching_bullpen_runs_total', 'away_pitching_bullpen_runs_unearned', 'away_pitching_bullpen_runs_earned', 'away_pitching_bullpen_outcome_klook', 'away_pitching_bullpen_outcome_kswing', 'away_pitching_bullpen_outcome_ktotal', 'away_pitching_bullpen_outcome_ball', 'away_pitching_bullpen_outcome_iball', 'away_pitching_bullpen_outcome_dirtball', 'away_pitching_bullpen_outcome_foul', 'away_pitching_bullpen_outs_po', 'away_pitching_bullpen_outs_fo', 'away_pitching_bullpen_outs_fidp', 'away_pitching_bullpen_outs_lo', 'away_pitching_bullpen_outs_lidp', 'away_pitching_bullpen_outs_go', 'away_pitching_bullpen_outs_gidp', 'away_pitching_bullpen_outs_klook', 'away_pitching_bullpen_outs_kswing', 'away_pitching_bullpen_outs_ktotal', 'away_pitching_bullpen_outs_sacfly', 'away_pitching_bullpen_outs_sachit', 'away_pitching_bullpen_steal_caught', 'away_pitching_bullpen_steal_stolen', 'away_pitching_bullpen_steal_pickoff', 'away_pitching_bullpen_games_svo', 'away_pitching_bullpen_games_qstart', 'away_pitching_bullpen_games_shutout', 'away_pitching_bullpen_games_complete', 'away_pitching_bullpen_games_win', 'away_pitching_bullpen_games_loss', 'away_pitching_bullpen_games_save', 'away_pitching_bullpen_games_hold', 'away_pitching_bullpen_games_blown_save', 'home_pitching_starters_games_team_shutout', 'home_pitching_bullpen_games_team_shutout', 'away_pitching_starters_games_team_shutout', 'away_pitching_bullpen_games_team_shutout', 'weather_forecast_temp_f', 'weather_forecast_condition', 'weather_forecast_humidity', 'weather_forecast_dew_point_f', 'weather_forecast_cloud_cover', 'weather_forecast_obs_time', 'weather_forecast_wind_speed_mph', 'weather_forecast_wind_direction', 'weather_current_conditions_temp_f', 'weather_current_conditions_condition', 'weather_current_conditions_humidity', 'weather_current_conditions_dew_point_f', 'weather_current_conditions_cloud_cover', 'weather_current_conditions_obs_time', 'weather_current_conditions_wind_speed_mph', 'weather_current_conditions_wind_direction', 'home_hitting_overall_pitches_count', 'home_hitting_overall_pitches_btotal', 'home_hitting_overall_pitches_ktotal', 'home_pitching_overall_bf_start', 'home_pitching_overall_onbase_h9', 'home_pitching_overall_onbase_hr9', 'home_pitching_overall_runs_ir', 'home_pitching_overall_runs_ira', 'home_pitching_overall_runs_bqr', 'home_pitching_overall_runs_bqra', 'home_pitching_overall_pitches_count', 'home_pitching_overall_pitches_btotal', 'home_pitching_overall_pitches_ktotal', 'home_pitching_overall_pitches_per_ip', 'home_pitching_overall_pitches_per_bf', 'home_pitching_overall_pitches_per_start', 'home_pitching_overall_in_play_linedrive', 'home_pitching_overall_in_play_groundball', 'home_pitching_overall_in_play_popup', 'home_pitching_overall_in_play_flyball', 'home_pitching_starters_bf_start', 'home_pitching_starters_onbase_h9', 'home_pitching_starters_onbase_hr9', 'home_pitching_starters_runs_ir', 'home_pitching_starters_runs_ira', 'home_pitching_starters_runs_bqr', 'home_pitching_starters_runs_bqra', 'home_pitching_starters_pitches_count', 'home_pitching_starters_pitches_btotal', 'home_pitching_starters_pitches_ktotal', 'home_pitching_starters_pitches_per_ip', 'home_pitching_starters_pitches_per_bf', 'home_pitching_starters_pitches_per_start', 'home_pitching_starters_in_play_linedrive', 'home_pitching_starters_in_play_groundball', 'home_pitching_starters_in_play_popup', 'home_pitching_starters_in_play_flyball', 'home_pitching_bullpen_onbase_h9', 'home_pitching_bullpen_onbase_hr9', 'home_pitching_bullpen_runs_ir', 'home_pitching_bullpen_runs_ira', 'home_pitching_bullpen_runs_bqr', 'home_pitching_bullpen_runs_bqra', 'home_pitching_bullpen_pitches_count', 'home_pitching_bullpen_pitches_btotal', 'home_pitching_bullpen_pitches_ktotal', 'home_pitching_bullpen_pitches_per_ip', 'home_pitching_bullpen_pitches_per_bf', 'home_pitching_bullpen_in_play_linedrive', 'home_pitching_bullpen_in_play_groundball', 'home_pitching_bullpen_in_play_popup', 'home_pitching_bullpen_in_play_flyball', 'home_fielding_overall_assists_outfield', 'home_fielding_overall_assists_total', 'away_hitting_overall_pitches_count', 'away_hitting_overall_pitches_btotal', 'away_hitting_overall_pitches_ktotal', 'away_pitching_overall_bf_start', 'away_pitching_overall_onbase_h9', 'away_pitching_overall_onbase_hr9', 'away_pitching_overall_runs_ir', 'away_pitching_overall_runs_ira', 'away_pitching_overall_runs_bqr', 'away_pitching_overall_runs_bqra', 'away_pitching_overall_pitches_count', 'away_pitching_overall_pitches_btotal', 'away_pitching_overall_pitches_ktotal', 'away_pitching_overall_pitches_per_ip', 'away_pitching_overall_pitches_per_bf', 'away_pitching_overall_pitches_per_start', 'away_pitching_overall_in_play_linedrive', 'away_pitching_overall_in_play_groundball', 'away_pitching_overall_in_play_popup', 'away_pitching_overall_in_play_flyball', 'away_pitching_starters_bf_start', 'away_pitching_starters_onbase_h9', 'away_pitching_starters_onbase_hr9', 'away_pitching_starters_runs_ir', 'away_pitching_starters_runs_ira', 'away_pitching_starters_runs_bqr', 'away_pitching_starters_runs_bqra', 'away_pitching_starters_pitches_count', 'away_pitching_starters_pitches_btotal', 'away_pitching_starters_pitches_ktotal', 'away_pitching_starters_pitches_per_ip', 'away_pitching_starters_pitches_per_bf', 'away_pitching_starters_pitches_per_start', 'away_pitching_starters_in_play_linedrive', 'away_pitching_starters_in_play_groundball', 'away_pitching_starters_in_play_popup', 'away_pitching_starters_in_play_flyball', 'away_pitching_bullpen_onbase_h9', 'away_pitching_bullpen_onbase_hr9', 'away_pitching_bullpen_runs_ir', 'away_pitching_bullpen_runs_ira', 'away_pitching_bullpen_runs_bqr', 'away_pitching_bullpen_runs_bqra', 'away_pitching_bullpen_pitches_count', 'away_pitching_bullpen_pitches_btotal', 'away_pitching_bullpen_pitches_ktotal', 'away_pitching_bullpen_pitches_per_ip', 'away_pitching_bullpen_pitches_per_bf', 'away_pitching_bullpen_in_play_linedrive', 'away_pitching_bullpen_in_play_groundball', 'away_pitching_bullpen_in_play_popup', 'away_pitching_bullpen_in_play_flyball', 'away_fielding_overall_assists_outfield', 'away_fielding_overall_assists_total', 'tbd', 'away_probable_pitcher_suffix', 'away_starting_pitcher_suffix', 'home_probable_pitcher_suffix', 'home_starting_pitcher_suffix', 'pitching_loss_suffix', 'pitching_win_suffix', 'pitching_save_suffix', 'year', 'month', 'day', 'time']\n"
          ]
        }
      ]
    },
    {
      "cell_type": "code",
      "source": [
        "import pandas as pd\n",
        "\n",
        "# Get the count of null values in each column\n",
        "null_counts = df.isnull().sum()\n",
        "\n",
        "# Filter the columns with null values\n",
        "null_counts = null_counts[null_counts > 0]\n",
        "\n",
        "# Display the columns with their respective null value counts\n",
        "print(null_counts)\n",
        "\n",
        "# Optionally, save the null counts to a CSV file for further analysis\n",
        "null_counts.to_csv('null_value_counts.csv', header=['null_counts'])\n",
        "\n",
        "# If you want to download the file, use the following code\n",
        "from google.colab import files\n",
        "files.download('null_value_counts.csv')"
      ],
      "metadata": {
        "colab": {
          "base_uri": "https://localhost:8080/",
          "height": 235
        },
        "id": "10rJ2z2Skleg",
        "outputId": "df41b0b6-23db-4ab2-cd8b-900799044fb4"
      },
      "execution_count": 5,
      "outputs": [
        {
          "output_type": "stream",
          "name": "stdout",
          "text": [
            "id                          4\n",
            "status                      4\n",
            "scheduled                   4\n",
            "attendance               2870\n",
            "split_squad             18420\n",
            "                        ...  \n",
            "pitching_save_suffix    21580\n",
            "year                        4\n",
            "month                       4\n",
            "day                         4\n",
            "time                        4\n",
            "Length: 731, dtype: int64\n"
          ]
        },
        {
          "output_type": "display_data",
          "data": {
            "text/plain": [
              "<IPython.core.display.Javascript object>"
            ],
            "application/javascript": [
              "\n",
              "    async function download(id, filename, size) {\n",
              "      if (!google.colab.kernel.accessAllowed) {\n",
              "        return;\n",
              "      }\n",
              "      const div = document.createElement('div');\n",
              "      const label = document.createElement('label');\n",
              "      label.textContent = `Downloading \"${filename}\": `;\n",
              "      div.appendChild(label);\n",
              "      const progress = document.createElement('progress');\n",
              "      progress.max = size;\n",
              "      div.appendChild(progress);\n",
              "      document.body.appendChild(div);\n",
              "\n",
              "      const buffers = [];\n",
              "      let downloaded = 0;\n",
              "\n",
              "      const channel = await google.colab.kernel.comms.open(id);\n",
              "      // Send a message to notify the kernel that we're ready.\n",
              "      channel.send({})\n",
              "\n",
              "      for await (const message of channel.messages) {\n",
              "        // Send a message to notify the kernel that we're ready.\n",
              "        channel.send({})\n",
              "        if (message.buffers) {\n",
              "          for (const buffer of message.buffers) {\n",
              "            buffers.push(buffer);\n",
              "            downloaded += buffer.byteLength;\n",
              "            progress.value = downloaded;\n",
              "          }\n",
              "        }\n",
              "      }\n",
              "      const blob = new Blob(buffers, {type: 'application/binary'});\n",
              "      const a = document.createElement('a');\n",
              "      a.href = window.URL.createObjectURL(blob);\n",
              "      a.download = filename;\n",
              "      div.appendChild(a);\n",
              "      a.click();\n",
              "      div.remove();\n",
              "    }\n",
              "  "
            ]
          },
          "metadata": {}
        },
        {
          "output_type": "display_data",
          "data": {
            "text/plain": [
              "<IPython.core.display.Javascript object>"
            ],
            "application/javascript": [
              "download(\"download_4ec1e10e-4efd-45e9-a645-38aeccb353bd\", \"null_value_counts.csv\", 26055)"
            ]
          },
          "metadata": {}
        }
      ]
    },
    {
      "cell_type": "markdown",
      "source": [
        "### Droping columns due to too many null values!"
      ],
      "metadata": {
        "id": "N3OW6WybmHEl"
      }
    },
    {
      "cell_type": "code",
      "source": [
        "# Generate a list of columns with more than 4000 null values\n",
        "columns_with_many_nulls = df.columns[df.isnull().sum() > 4000].tolist()\n",
        "\n",
        "# Drop the identified columns\n",
        "df = df.drop(columns=columns_with_many_nulls)"
      ],
      "metadata": {
        "id": "KmVktfEsmGT7"
      },
      "execution_count": 8,
      "outputs": []
    },
    {
      "cell_type": "code",
      "source": [
        "#Dropping more columns due to irrelevance\n",
        "columns_irrelevance = ['id', 'status','home_scoring','away_scoring', 'officials', 'duration','pitching_win_status', 'pitching_loss_status', 'home_pitching_starters_era',\n",
        " 'away_pitching_starters_era', 'away_pitching_bullpen_era','home_pitching_bullpen_era','time']\n",
        "\n",
        "# Drop the identified columns\n",
        "df = df.drop(columns=columns_irrelevance)"
      ],
      "metadata": {
        "id": "x5EUWiYNd_vO"
      },
      "execution_count": 10,
      "outputs": []
    },
    {
      "cell_type": "code",
      "source": [
        "# Identify columns with null values\n",
        "columns_with_nulls = df.columns[df.isnull().any()].tolist()\n",
        "\n",
        "# Identify numeric columns with null values\n",
        "numeric_columns_with_nulls = df.select_dtypes(include=['number']).columns[df.select_dtypes(include=['number']).isnull().any()].tolist()\n",
        "\n",
        "# Step 1: Group-Based Mean Imputation (based on home_name and away_name) for numeric columns\n",
        "for column in numeric_columns_with_nulls:\n",
        "    df[column] = df.groupby(['home_name', 'away_name'])[column].transform(lambda x: x.fillna(x.mean()))\n",
        "\n",
        "# Step 2: Overall Median Imputation for any remaining nulls in numeric columns\n",
        "for column in numeric_columns_with_nulls:\n",
        "    df[column].fillna(df[column].median(), inplace=True)\n",
        "\n",
        "# Step 3: Overall Mode Imputation for any remaining nulls in non-numeric columns\n",
        "non_numeric_columns_with_nulls = [col for col in columns_with_nulls if col not in numeric_columns_with_nulls]\n",
        "for column in non_numeric_columns_with_nulls:\n",
        "    df[column].fillna(df[column].mode()[0], inplace=True)"
      ],
      "metadata": {
        "id": "C2p0NACS84XU"
      },
      "execution_count": 11,
      "outputs": []
    },
    {
      "cell_type": "code",
      "source": [
        "# Assuming NaN means 0 wins\n",
        "df['home_win'].fillna(0, inplace=True)\n",
        "df['away_win'].fillna(0, inplace=True)\n",
        "\n",
        "# Calculate the previous game win counts\n",
        "df['home_win_previous'] = df['home_win'].shift(1).fillna(0)\n",
        "df['away_win_previous'] = df['away_win'].shift(1).fillna(0)\n",
        "\n",
        "# Determine the win for each game\n",
        "df['home_win_binary'] = ((df['home_win'] - df['home_win_previous']) > (df['away_win'] - df['away_win_previous'])).astype(int)\n",
        "df['away_win_binary'] = ((df['away_win'] - df['away_win_previous']) > (df['home_win'] - df['home_win_previous'])).astype(int)"
      ],
      "metadata": {
        "colab": {
          "base_uri": "https://localhost:8080/"
        },
        "id": "a6rY3UdQzpJ9",
        "outputId": "b715374f-46b4-49e8-8043-04d30f61da3c"
      },
      "execution_count": 12,
      "outputs": [
        {
          "output_type": "stream",
          "name": "stderr",
          "text": [
            "<ipython-input-12-5da6f6752c92>:6: PerformanceWarning: DataFrame is highly fragmented.  This is usually the result of calling `frame.insert` many times, which has poor performance.  Consider joining all columns at once using pd.concat(axis=1) instead. To get a de-fragmented frame, use `newframe = frame.copy()`\n",
            "  df['home_win_previous'] = df['home_win'].shift(1).fillna(0)\n",
            "<ipython-input-12-5da6f6752c92>:7: PerformanceWarning: DataFrame is highly fragmented.  This is usually the result of calling `frame.insert` many times, which has poor performance.  Consider joining all columns at once using pd.concat(axis=1) instead. To get a de-fragmented frame, use `newframe = frame.copy()`\n",
            "  df['away_win_previous'] = df['away_win'].shift(1).fillna(0)\n",
            "<ipython-input-12-5da6f6752c92>:10: PerformanceWarning: DataFrame is highly fragmented.  This is usually the result of calling `frame.insert` many times, which has poor performance.  Consider joining all columns at once using pd.concat(axis=1) instead. To get a de-fragmented frame, use `newframe = frame.copy()`\n",
            "  df['home_win_binary'] = ((df['home_win'] - df['home_win_previous']) > (df['away_win'] - df['away_win_previous'])).astype(int)\n",
            "<ipython-input-12-5da6f6752c92>:11: PerformanceWarning: DataFrame is highly fragmented.  This is usually the result of calling `frame.insert` many times, which has poor performance.  Consider joining all columns at once using pd.concat(axis=1) instead. To get a de-fragmented frame, use `newframe = frame.copy()`\n",
            "  df['away_win_binary'] = ((df['away_win'] - df['away_win_previous']) > (df['home_win'] - df['home_win_previous'])).astype(int)\n"
          ]
        }
      ]
    },
    {
      "cell_type": "code",
      "source": [
        "# Check if home_win_binary and away_win_binary are the same\n",
        "same_win_count = (df['home_win_binary'] == df['away_win_binary']).sum()\n",
        "\n",
        "print(\"Count of games where home_win_binary and away_win_binary are the same:\", same_win_count)\n"
      ],
      "metadata": {
        "colab": {
          "base_uri": "https://localhost:8080/"
        },
        "id": "E6cFGTLU2Hd9",
        "outputId": "7abf5368-8b94-48e6-ac37-29509d7cdcf3"
      },
      "execution_count": 13,
      "outputs": [
        {
          "output_type": "stream",
          "name": "stdout",
          "text": [
            "Count of games where home_win_binary and away_win_binary are the same: 990\n"
          ]
        }
      ]
    },
    {
      "cell_type": "code",
      "source": [
        "# Remove rows where home_win_binary and away_win_binary are the same\n",
        "df_filtered = df[df['home_win_binary'] != df['away_win_binary']]\n",
        "\n",
        "# Print the count of removed rows\n",
        "removed_rows_count = len(df) - len(df_filtered)\n",
        "print(\"Number of removed rows where home_win_binary and away_win_binary are the same:\", removed_rows_count)"
      ],
      "metadata": {
        "colab": {
          "base_uri": "https://localhost:8080/"
        },
        "id": "NtwvoC5c7id2",
        "outputId": "c2c86d7c-e570-47c3-9a29-d1bf835d5e8d"
      },
      "execution_count": 14,
      "outputs": [
        {
          "output_type": "stream",
          "name": "stdout",
          "text": [
            "Number of removed rows where home_win_binary and away_win_binary are the same: 990\n"
          ]
        }
      ]
    },
    {
      "cell_type": "code",
      "source": [
        "# Create a new column 'winner_binary' based on 'home_win_binary' and 'away_win_binary'\n",
        "df['winner_binary'] = df['home_win_binary']  # Since home_win_binary is 1 for home win and 0 for away win\n",
        "\n",
        "# Drop the specified columns\n",
        "columns_to_drop = ['home_win_previous', 'away_win_previous', 'home_win_binary', 'away_win_binary']\n",
        "df.drop(columns=columns_to_drop, inplace=True)\n",
        "\n",
        "# Print the DataFrame to verify the columns have been dropped\n",
        "df['winner_binary']"
      ],
      "metadata": {
        "colab": {
          "base_uri": "https://localhost:8080/",
          "height": 514
        },
        "id": "ecQBCm78U3oB",
        "outputId": "7a9671f9-5b35-4ebc-e361-bce6794f930d"
      },
      "execution_count": 15,
      "outputs": [
        {
          "output_type": "stream",
          "name": "stderr",
          "text": [
            "<ipython-input-15-aa18f7bbf0f3>:2: PerformanceWarning: DataFrame is highly fragmented.  This is usually the result of calling `frame.insert` many times, which has poor performance.  Consider joining all columns at once using pd.concat(axis=1) instead. To get a de-fragmented frame, use `newframe = frame.copy()`\n",
            "  df['winner_binary'] = df['home_win_binary']  # Since home_win_binary is 1 for home win and 0 for away win\n"
          ]
        },
        {
          "output_type": "execute_result",
          "data": {
            "text/plain": [
              "0        0\n",
              "1        1\n",
              "2        0\n",
              "3        1\n",
              "4        1\n",
              "        ..\n",
              "21600    0\n",
              "21601    1\n",
              "21602    0\n",
              "21603    1\n",
              "21604    1\n",
              "Name: winner_binary, Length: 21605, dtype: int64"
            ],
            "text/html": [
              "<div>\n",
              "<style scoped>\n",
              "    .dataframe tbody tr th:only-of-type {\n",
              "        vertical-align: middle;\n",
              "    }\n",
              "\n",
              "    .dataframe tbody tr th {\n",
              "        vertical-align: top;\n",
              "    }\n",
              "\n",
              "    .dataframe thead th {\n",
              "        text-align: right;\n",
              "    }\n",
              "</style>\n",
              "<table border=\"1\" class=\"dataframe\">\n",
              "  <thead>\n",
              "    <tr style=\"text-align: right;\">\n",
              "      <th></th>\n",
              "      <th>winner_binary</th>\n",
              "    </tr>\n",
              "  </thead>\n",
              "  <tbody>\n",
              "    <tr>\n",
              "      <th>0</th>\n",
              "      <td>0</td>\n",
              "    </tr>\n",
              "    <tr>\n",
              "      <th>1</th>\n",
              "      <td>1</td>\n",
              "    </tr>\n",
              "    <tr>\n",
              "      <th>2</th>\n",
              "      <td>0</td>\n",
              "    </tr>\n",
              "    <tr>\n",
              "      <th>3</th>\n",
              "      <td>1</td>\n",
              "    </tr>\n",
              "    <tr>\n",
              "      <th>4</th>\n",
              "      <td>1</td>\n",
              "    </tr>\n",
              "    <tr>\n",
              "      <th>...</th>\n",
              "      <td>...</td>\n",
              "    </tr>\n",
              "    <tr>\n",
              "      <th>21600</th>\n",
              "      <td>0</td>\n",
              "    </tr>\n",
              "    <tr>\n",
              "      <th>21601</th>\n",
              "      <td>1</td>\n",
              "    </tr>\n",
              "    <tr>\n",
              "      <th>21602</th>\n",
              "      <td>0</td>\n",
              "    </tr>\n",
              "    <tr>\n",
              "      <th>21603</th>\n",
              "      <td>1</td>\n",
              "    </tr>\n",
              "    <tr>\n",
              "      <th>21604</th>\n",
              "      <td>1</td>\n",
              "    </tr>\n",
              "  </tbody>\n",
              "</table>\n",
              "<p>21605 rows × 1 columns</p>\n",
              "</div><br><label><b>dtype:</b> int64</label>"
            ]
          },
          "metadata": {},
          "execution_count": 15
        }
      ]
    },
    {
      "cell_type": "markdown",
      "source": [
        "### Feature Engineering"
      ],
      "metadata": {
        "id": "cM66DS0UmMop"
      }
    },
    {
      "cell_type": "code",
      "source": [
        "# Functions for calculating averages, recent performance, and head-to-head statistics\n",
        "def calculate_average(df, group_col, target_col):\n",
        "    return df.groupby(group_col)[target_col].transform('mean')\n",
        "\n",
        "def calculate_recent_performance(df, group_col, target_col, window=5):\n",
        "    return df.groupby(group_col)[target_col].transform(lambda x: x.rolling(window, min_periods=1).mean())\n",
        "\n",
        "def calculate_head_to_head(df, group_col1, group_col2, target_col):\n",
        "    return df.groupby([group_col1, group_col2])[target_col].transform('mean')\n",
        "\n",
        "def calculate_win_streak(df, team_col, win_col):\n",
        "    # Initialize the streak column with zeros\n",
        "    streak = pd.Series(0, index=df.index)\n",
        "\n",
        "    # Group by team and calculate the streak\n",
        "    for team, group in df.groupby(team_col):\n",
        "        streak[group.index] = group[win_col].groupby((group[win_col] != group[win_col].shift()).cumsum()).cumcount() + 1\n",
        "\n",
        "    return streak\n",
        "def create_features(df):\n",
        "    # Basic team statistics\n",
        "    df['home_avg_runs'] = calculate_average(df, 'home_name', 'home_runs')\n",
        "    df['away_avg_runs'] = calculate_average(df, 'away_name', 'away_runs')\n",
        "    df['home_avg_hits'] = calculate_average(df, 'home_name', 'home_hits')\n",
        "    df['away_avg_hits'] = calculate_average(df, 'away_name', 'away_hits')\n",
        "    df['home_avg_errors'] = calculate_average(df, 'home_name', 'home_errors')\n",
        "    df['away_avg_errors'] = calculate_average(df, 'away_name', 'away_errors')\n",
        "\n",
        "    # Recent performance\n",
        "    df['home_recent_runs'] = calculate_recent_performance(df, 'home_name', 'home_runs')\n",
        "    df['away_recent_runs'] = calculate_recent_performance(df, 'away_name', 'away_runs')\n",
        "    df['home_recent_hits'] = calculate_recent_performance(df, 'home_name', 'home_hits')\n",
        "    df['away_recent_hits'] = calculate_recent_performance(df, 'away_name', 'away_hits')\n",
        "    df['home_recent_errors'] = calculate_recent_performance(df, 'home_name', 'home_errors')\n",
        "    df['away_recent_errors'] = calculate_recent_performance(df, 'away_name', 'away_errors')\n",
        "\n",
        "    # Head-to-head statistics\n",
        "    df['head_to_head_runs'] = calculate_head_to_head(df, 'home_name', 'away_name', 'home_runs')\n",
        "\n",
        "    # Derived features\n",
        "    df['home_win_rate'] = df.groupby('home_name')['home_win'].transform(lambda x: x.rolling(10, min_periods=1).mean())\n",
        "    df['away_win_rate'] = df.groupby('away_name')['away_win'].transform(lambda x: x.rolling(10, min_periods=1).mean())\n",
        "    df['home_run_diff'] = df['home_runs'] - df['away_runs']\n",
        "    df['home_hit_diff'] = df['home_hits'] - df['away_hits']\n",
        "    df['home_error_diff'] = df['home_errors'] - df['away_errors']\n",
        "\n",
        "    # Total and combined metrics\n",
        "    df['total_runs'] = df['home_runs'] + df['away_runs']\n",
        "    df['total_hits'] = df['home_hits'] + df['away_hits']\n",
        "    df['total_errors'] = df['home_errors'] + df['away_errors']\n",
        "\n",
        "    # Situational statistics\n",
        "    df['home_risp'] = df['home_hitting_overall_ab_risp'] / df['home_hitting_overall_hit_risp']\n",
        "    df['away_risp'] = df['away_hitting_overall_ab_risp'] / df['away_hitting_overall_hit_risp']\n",
        "    df['home_two_out_rbi'] = df['home_hitting_overall_rbi_2out']\n",
        "    df['away_two_out_rbi'] = df['away_hitting_overall_rbi_2out']\n",
        "\n",
        "    # Advanced metrics\n",
        "    df['home_iso'] = df['home_hitting_overall_iso']\n",
        "    df['away_iso'] = df['away_hitting_overall_iso']\n",
        "    df['home_obp'] = df['home_hitting_overall_obp']\n",
        "    df['away_obp'] = df['away_hitting_overall_obp']\n",
        "    df['home_slg'] = df['home_hitting_overall_slg']\n",
        "    df['away_slg'] = df['away_hitting_overall_slg']\n",
        "\n",
        "    # Ratios\n",
        "    df['home_run_hit_ratio'] = df['home_runs'] / df['home_hits']\n",
        "    df['away_run_hit_ratio'] = df['away_runs'] / df['away_hits']\n",
        "    df['home_k_bb_ratio'] = df['home_pitching_overall_outcome_ktotal'] / df['home_pitching_overall_onbase_bb']\n",
        "    df['away_k_bb_ratio'] = df['away_pitching_overall_outcome_ktotal'] / df['away_pitching_overall_onbase_bb']\n",
        "\n",
        "    # Additional Features from previous steps\n",
        "\n",
        "    # 1. Ratios and Differences\n",
        "    df['home_away_win_ratio'] = df['home_pitching_overall_games_win'] / (df['away_pitching_overall_games_loss'] + 1)\n",
        "    df['home_away_run_diff'] = df['home_hitting_overall_runs_total'] - df['away_pitching_overall_runs_total']\n",
        "    df['home_away_era_diff'] = df['home_pitching_overall_era'] - df['away_pitching_overall_era']\n",
        "    df['home_strikeout_to_walk_ratio'] = df['home_pitching_overall_k9'] / (df['home_pitching_overall_games_win'] + 1)\n",
        "\n",
        "    # 2. Interaction Terms\n",
        "    df['attendance_adjusted_performance'] = df['attendance'] * df['home_pitching_overall_games_win']\n",
        "    df['slugging_percentage_interaction'] = df['home_hitting_overall_slg'] * df['away_pitching_overall_slg']\n",
        "\n",
        "    # 3. Cumulative or Aggregated Features\n",
        "    df['cumulative_home_runs'] = df['home_runs'].rolling(window=10, min_periods=1).sum()\n",
        "    df['cumulative_wins'] = df['home_pitching_overall_games_win'].rolling(window=10, min_periods=1).sum()\n",
        "\n",
        "    # 4. Custom Indices\n",
        "    df['offensive_power_index'] = df['home_hitting_overall_ops'] + df['home_hitting_overall_rbi'] + df['home_hitting_overall_seca']\n",
        "    df['defensive_efficiency_index'] = df['home_pitching_overall_whip'] + df['home_pitching_starters_outs_ktotal'] + df['home_pitching_overall_era']\n",
        "\n",
        "    # 5. Rolling or Moving Averages\n",
        "    df['rolling_avg_runs'] = df['home_hitting_overall_runs_total'].rolling(window=5, min_periods=1).mean()\n",
        "    df['rolling_era'] = df['home_pitching_overall_era'].rolling(window=5, min_periods=1).mean()\n",
        "\n",
        "    # 6. Weighted Metrics\n",
        "    df['weighted_obp'] = df['home_hitting_overall_obp'] * df['home_hitting_overall_runs_total']\n",
        "    df['weighted_strikeouts'] = df['home_pitching_starters_outs_ktotal'] / (df['home_pitching_starters_games_win'] + 1)\n",
        "\n",
        "    # 7. Binary Flags\n",
        "    df['high_attendance_flag'] = (df['attendance'] > 50000).astype(int)\n",
        "    df['high_era_flag'] = (df['home_pitching_overall_era'] > 4.00).astype(int)\n",
        "\n",
        "    # 9. Win Streaks or Momentum\n",
        "    df['win_streak_length'] = calculate_win_streak(df, 'home_name', 'winner_binary')\n",
        "\n",
        "    return df\n",
        "\n",
        "# Example usage\n",
        "df = create_features(df)\n"
      ],
      "metadata": {
        "colab": {
          "base_uri": "https://localhost:8080/"
        },
        "collapsed": true,
        "id": "TdW6AJ_z4Tp_",
        "outputId": "6f059cd7-8cbf-4ce1-ba26-12101563ac27"
      },
      "execution_count": 16,
      "outputs": [
        {
          "output_type": "stream",
          "name": "stderr",
          "text": [
            "<ipython-input-16-3e8409e9f64d>:25: PerformanceWarning: DataFrame is highly fragmented.  This is usually the result of calling `frame.insert` many times, which has poor performance.  Consider joining all columns at once using pd.concat(axis=1) instead. To get a de-fragmented frame, use `newframe = frame.copy()`\n",
            "  df['home_avg_runs'] = calculate_average(df, 'home_name', 'home_runs')\n",
            "<ipython-input-16-3e8409e9f64d>:26: PerformanceWarning: DataFrame is highly fragmented.  This is usually the result of calling `frame.insert` many times, which has poor performance.  Consider joining all columns at once using pd.concat(axis=1) instead. To get a de-fragmented frame, use `newframe = frame.copy()`\n",
            "  df['away_avg_runs'] = calculate_average(df, 'away_name', 'away_runs')\n",
            "<ipython-input-16-3e8409e9f64d>:27: PerformanceWarning: DataFrame is highly fragmented.  This is usually the result of calling `frame.insert` many times, which has poor performance.  Consider joining all columns at once using pd.concat(axis=1) instead. To get a de-fragmented frame, use `newframe = frame.copy()`\n",
            "  df['home_avg_hits'] = calculate_average(df, 'home_name', 'home_hits')\n",
            "<ipython-input-16-3e8409e9f64d>:28: PerformanceWarning: DataFrame is highly fragmented.  This is usually the result of calling `frame.insert` many times, which has poor performance.  Consider joining all columns at once using pd.concat(axis=1) instead. To get a de-fragmented frame, use `newframe = frame.copy()`\n",
            "  df['away_avg_hits'] = calculate_average(df, 'away_name', 'away_hits')\n",
            "<ipython-input-16-3e8409e9f64d>:29: PerformanceWarning: DataFrame is highly fragmented.  This is usually the result of calling `frame.insert` many times, which has poor performance.  Consider joining all columns at once using pd.concat(axis=1) instead. To get a de-fragmented frame, use `newframe = frame.copy()`\n",
            "  df['home_avg_errors'] = calculate_average(df, 'home_name', 'home_errors')\n",
            "<ipython-input-16-3e8409e9f64d>:30: PerformanceWarning: DataFrame is highly fragmented.  This is usually the result of calling `frame.insert` many times, which has poor performance.  Consider joining all columns at once using pd.concat(axis=1) instead. To get a de-fragmented frame, use `newframe = frame.copy()`\n",
            "  df['away_avg_errors'] = calculate_average(df, 'away_name', 'away_errors')\n",
            "<ipython-input-16-3e8409e9f64d>:33: PerformanceWarning: DataFrame is highly fragmented.  This is usually the result of calling `frame.insert` many times, which has poor performance.  Consider joining all columns at once using pd.concat(axis=1) instead. To get a de-fragmented frame, use `newframe = frame.copy()`\n",
            "  df['home_recent_runs'] = calculate_recent_performance(df, 'home_name', 'home_runs')\n",
            "<ipython-input-16-3e8409e9f64d>:34: PerformanceWarning: DataFrame is highly fragmented.  This is usually the result of calling `frame.insert` many times, which has poor performance.  Consider joining all columns at once using pd.concat(axis=1) instead. To get a de-fragmented frame, use `newframe = frame.copy()`\n",
            "  df['away_recent_runs'] = calculate_recent_performance(df, 'away_name', 'away_runs')\n",
            "<ipython-input-16-3e8409e9f64d>:35: PerformanceWarning: DataFrame is highly fragmented.  This is usually the result of calling `frame.insert` many times, which has poor performance.  Consider joining all columns at once using pd.concat(axis=1) instead. To get a de-fragmented frame, use `newframe = frame.copy()`\n",
            "  df['home_recent_hits'] = calculate_recent_performance(df, 'home_name', 'home_hits')\n",
            "<ipython-input-16-3e8409e9f64d>:36: PerformanceWarning: DataFrame is highly fragmented.  This is usually the result of calling `frame.insert` many times, which has poor performance.  Consider joining all columns at once using pd.concat(axis=1) instead. To get a de-fragmented frame, use `newframe = frame.copy()`\n",
            "  df['away_recent_hits'] = calculate_recent_performance(df, 'away_name', 'away_hits')\n",
            "<ipython-input-16-3e8409e9f64d>:37: PerformanceWarning: DataFrame is highly fragmented.  This is usually the result of calling `frame.insert` many times, which has poor performance.  Consider joining all columns at once using pd.concat(axis=1) instead. To get a de-fragmented frame, use `newframe = frame.copy()`\n",
            "  df['home_recent_errors'] = calculate_recent_performance(df, 'home_name', 'home_errors')\n",
            "<ipython-input-16-3e8409e9f64d>:38: PerformanceWarning: DataFrame is highly fragmented.  This is usually the result of calling `frame.insert` many times, which has poor performance.  Consider joining all columns at once using pd.concat(axis=1) instead. To get a de-fragmented frame, use `newframe = frame.copy()`\n",
            "  df['away_recent_errors'] = calculate_recent_performance(df, 'away_name', 'away_errors')\n",
            "<ipython-input-16-3e8409e9f64d>:41: PerformanceWarning: DataFrame is highly fragmented.  This is usually the result of calling `frame.insert` many times, which has poor performance.  Consider joining all columns at once using pd.concat(axis=1) instead. To get a de-fragmented frame, use `newframe = frame.copy()`\n",
            "  df['head_to_head_runs'] = calculate_head_to_head(df, 'home_name', 'away_name', 'home_runs')\n",
            "<ipython-input-16-3e8409e9f64d>:44: PerformanceWarning: DataFrame is highly fragmented.  This is usually the result of calling `frame.insert` many times, which has poor performance.  Consider joining all columns at once using pd.concat(axis=1) instead. To get a de-fragmented frame, use `newframe = frame.copy()`\n",
            "  df['home_win_rate'] = df.groupby('home_name')['home_win'].transform(lambda x: x.rolling(10, min_periods=1).mean())\n",
            "<ipython-input-16-3e8409e9f64d>:45: PerformanceWarning: DataFrame is highly fragmented.  This is usually the result of calling `frame.insert` many times, which has poor performance.  Consider joining all columns at once using pd.concat(axis=1) instead. To get a de-fragmented frame, use `newframe = frame.copy()`\n",
            "  df['away_win_rate'] = df.groupby('away_name')['away_win'].transform(lambda x: x.rolling(10, min_periods=1).mean())\n",
            "<ipython-input-16-3e8409e9f64d>:46: PerformanceWarning: DataFrame is highly fragmented.  This is usually the result of calling `frame.insert` many times, which has poor performance.  Consider joining all columns at once using pd.concat(axis=1) instead. To get a de-fragmented frame, use `newframe = frame.copy()`\n",
            "  df['home_run_diff'] = df['home_runs'] - df['away_runs']\n",
            "<ipython-input-16-3e8409e9f64d>:47: PerformanceWarning: DataFrame is highly fragmented.  This is usually the result of calling `frame.insert` many times, which has poor performance.  Consider joining all columns at once using pd.concat(axis=1) instead. To get a de-fragmented frame, use `newframe = frame.copy()`\n",
            "  df['home_hit_diff'] = df['home_hits'] - df['away_hits']\n",
            "<ipython-input-16-3e8409e9f64d>:48: PerformanceWarning: DataFrame is highly fragmented.  This is usually the result of calling `frame.insert` many times, which has poor performance.  Consider joining all columns at once using pd.concat(axis=1) instead. To get a de-fragmented frame, use `newframe = frame.copy()`\n",
            "  df['home_error_diff'] = df['home_errors'] - df['away_errors']\n",
            "<ipython-input-16-3e8409e9f64d>:51: PerformanceWarning: DataFrame is highly fragmented.  This is usually the result of calling `frame.insert` many times, which has poor performance.  Consider joining all columns at once using pd.concat(axis=1) instead. To get a de-fragmented frame, use `newframe = frame.copy()`\n",
            "  df['total_runs'] = df['home_runs'] + df['away_runs']\n",
            "<ipython-input-16-3e8409e9f64d>:52: PerformanceWarning: DataFrame is highly fragmented.  This is usually the result of calling `frame.insert` many times, which has poor performance.  Consider joining all columns at once using pd.concat(axis=1) instead. To get a de-fragmented frame, use `newframe = frame.copy()`\n",
            "  df['total_hits'] = df['home_hits'] + df['away_hits']\n",
            "<ipython-input-16-3e8409e9f64d>:53: PerformanceWarning: DataFrame is highly fragmented.  This is usually the result of calling `frame.insert` many times, which has poor performance.  Consider joining all columns at once using pd.concat(axis=1) instead. To get a de-fragmented frame, use `newframe = frame.copy()`\n",
            "  df['total_errors'] = df['home_errors'] + df['away_errors']\n",
            "<ipython-input-16-3e8409e9f64d>:56: PerformanceWarning: DataFrame is highly fragmented.  This is usually the result of calling `frame.insert` many times, which has poor performance.  Consider joining all columns at once using pd.concat(axis=1) instead. To get a de-fragmented frame, use `newframe = frame.copy()`\n",
            "  df['home_risp'] = df['home_hitting_overall_ab_risp'] / df['home_hitting_overall_hit_risp']\n",
            "<ipython-input-16-3e8409e9f64d>:57: PerformanceWarning: DataFrame is highly fragmented.  This is usually the result of calling `frame.insert` many times, which has poor performance.  Consider joining all columns at once using pd.concat(axis=1) instead. To get a de-fragmented frame, use `newframe = frame.copy()`\n",
            "  df['away_risp'] = df['away_hitting_overall_ab_risp'] / df['away_hitting_overall_hit_risp']\n",
            "<ipython-input-16-3e8409e9f64d>:58: PerformanceWarning: DataFrame is highly fragmented.  This is usually the result of calling `frame.insert` many times, which has poor performance.  Consider joining all columns at once using pd.concat(axis=1) instead. To get a de-fragmented frame, use `newframe = frame.copy()`\n",
            "  df['home_two_out_rbi'] = df['home_hitting_overall_rbi_2out']\n",
            "<ipython-input-16-3e8409e9f64d>:59: PerformanceWarning: DataFrame is highly fragmented.  This is usually the result of calling `frame.insert` many times, which has poor performance.  Consider joining all columns at once using pd.concat(axis=1) instead. To get a de-fragmented frame, use `newframe = frame.copy()`\n",
            "  df['away_two_out_rbi'] = df['away_hitting_overall_rbi_2out']\n",
            "<ipython-input-16-3e8409e9f64d>:62: PerformanceWarning: DataFrame is highly fragmented.  This is usually the result of calling `frame.insert` many times, which has poor performance.  Consider joining all columns at once using pd.concat(axis=1) instead. To get a de-fragmented frame, use `newframe = frame.copy()`\n",
            "  df['home_iso'] = df['home_hitting_overall_iso']\n",
            "<ipython-input-16-3e8409e9f64d>:63: PerformanceWarning: DataFrame is highly fragmented.  This is usually the result of calling `frame.insert` many times, which has poor performance.  Consider joining all columns at once using pd.concat(axis=1) instead. To get a de-fragmented frame, use `newframe = frame.copy()`\n",
            "  df['away_iso'] = df['away_hitting_overall_iso']\n",
            "<ipython-input-16-3e8409e9f64d>:64: PerformanceWarning: DataFrame is highly fragmented.  This is usually the result of calling `frame.insert` many times, which has poor performance.  Consider joining all columns at once using pd.concat(axis=1) instead. To get a de-fragmented frame, use `newframe = frame.copy()`\n",
            "  df['home_obp'] = df['home_hitting_overall_obp']\n",
            "<ipython-input-16-3e8409e9f64d>:65: PerformanceWarning: DataFrame is highly fragmented.  This is usually the result of calling `frame.insert` many times, which has poor performance.  Consider joining all columns at once using pd.concat(axis=1) instead. To get a de-fragmented frame, use `newframe = frame.copy()`\n",
            "  df['away_obp'] = df['away_hitting_overall_obp']\n",
            "<ipython-input-16-3e8409e9f64d>:66: PerformanceWarning: DataFrame is highly fragmented.  This is usually the result of calling `frame.insert` many times, which has poor performance.  Consider joining all columns at once using pd.concat(axis=1) instead. To get a de-fragmented frame, use `newframe = frame.copy()`\n",
            "  df['home_slg'] = df['home_hitting_overall_slg']\n",
            "<ipython-input-16-3e8409e9f64d>:67: PerformanceWarning: DataFrame is highly fragmented.  This is usually the result of calling `frame.insert` many times, which has poor performance.  Consider joining all columns at once using pd.concat(axis=1) instead. To get a de-fragmented frame, use `newframe = frame.copy()`\n",
            "  df['away_slg'] = df['away_hitting_overall_slg']\n",
            "<ipython-input-16-3e8409e9f64d>:70: PerformanceWarning: DataFrame is highly fragmented.  This is usually the result of calling `frame.insert` many times, which has poor performance.  Consider joining all columns at once using pd.concat(axis=1) instead. To get a de-fragmented frame, use `newframe = frame.copy()`\n",
            "  df['home_run_hit_ratio'] = df['home_runs'] / df['home_hits']\n",
            "<ipython-input-16-3e8409e9f64d>:71: PerformanceWarning: DataFrame is highly fragmented.  This is usually the result of calling `frame.insert` many times, which has poor performance.  Consider joining all columns at once using pd.concat(axis=1) instead. To get a de-fragmented frame, use `newframe = frame.copy()`\n",
            "  df['away_run_hit_ratio'] = df['away_runs'] / df['away_hits']\n",
            "<ipython-input-16-3e8409e9f64d>:72: PerformanceWarning: DataFrame is highly fragmented.  This is usually the result of calling `frame.insert` many times, which has poor performance.  Consider joining all columns at once using pd.concat(axis=1) instead. To get a de-fragmented frame, use `newframe = frame.copy()`\n",
            "  df['home_k_bb_ratio'] = df['home_pitching_overall_outcome_ktotal'] / df['home_pitching_overall_onbase_bb']\n",
            "<ipython-input-16-3e8409e9f64d>:73: PerformanceWarning: DataFrame is highly fragmented.  This is usually the result of calling `frame.insert` many times, which has poor performance.  Consider joining all columns at once using pd.concat(axis=1) instead. To get a de-fragmented frame, use `newframe = frame.copy()`\n",
            "  df['away_k_bb_ratio'] = df['away_pitching_overall_outcome_ktotal'] / df['away_pitching_overall_onbase_bb']\n",
            "<ipython-input-16-3e8409e9f64d>:78: PerformanceWarning: DataFrame is highly fragmented.  This is usually the result of calling `frame.insert` many times, which has poor performance.  Consider joining all columns at once using pd.concat(axis=1) instead. To get a de-fragmented frame, use `newframe = frame.copy()`\n",
            "  df['home_away_win_ratio'] = df['home_pitching_overall_games_win'] / (df['away_pitching_overall_games_loss'] + 1)\n",
            "<ipython-input-16-3e8409e9f64d>:79: PerformanceWarning: DataFrame is highly fragmented.  This is usually the result of calling `frame.insert` many times, which has poor performance.  Consider joining all columns at once using pd.concat(axis=1) instead. To get a de-fragmented frame, use `newframe = frame.copy()`\n",
            "  df['home_away_run_diff'] = df['home_hitting_overall_runs_total'] - df['away_pitching_overall_runs_total']\n",
            "<ipython-input-16-3e8409e9f64d>:80: PerformanceWarning: DataFrame is highly fragmented.  This is usually the result of calling `frame.insert` many times, which has poor performance.  Consider joining all columns at once using pd.concat(axis=1) instead. To get a de-fragmented frame, use `newframe = frame.copy()`\n",
            "  df['home_away_era_diff'] = df['home_pitching_overall_era'] - df['away_pitching_overall_era']\n",
            "<ipython-input-16-3e8409e9f64d>:81: PerformanceWarning: DataFrame is highly fragmented.  This is usually the result of calling `frame.insert` many times, which has poor performance.  Consider joining all columns at once using pd.concat(axis=1) instead. To get a de-fragmented frame, use `newframe = frame.copy()`\n",
            "  df['home_strikeout_to_walk_ratio'] = df['home_pitching_overall_k9'] / (df['home_pitching_overall_games_win'] + 1)\n",
            "<ipython-input-16-3e8409e9f64d>:84: PerformanceWarning: DataFrame is highly fragmented.  This is usually the result of calling `frame.insert` many times, which has poor performance.  Consider joining all columns at once using pd.concat(axis=1) instead. To get a de-fragmented frame, use `newframe = frame.copy()`\n",
            "  df['attendance_adjusted_performance'] = df['attendance'] * df['home_pitching_overall_games_win']\n",
            "<ipython-input-16-3e8409e9f64d>:85: PerformanceWarning: DataFrame is highly fragmented.  This is usually the result of calling `frame.insert` many times, which has poor performance.  Consider joining all columns at once using pd.concat(axis=1) instead. To get a de-fragmented frame, use `newframe = frame.copy()`\n",
            "  df['slugging_percentage_interaction'] = df['home_hitting_overall_slg'] * df['away_pitching_overall_slg']\n",
            "<ipython-input-16-3e8409e9f64d>:88: PerformanceWarning: DataFrame is highly fragmented.  This is usually the result of calling `frame.insert` many times, which has poor performance.  Consider joining all columns at once using pd.concat(axis=1) instead. To get a de-fragmented frame, use `newframe = frame.copy()`\n",
            "  df['cumulative_home_runs'] = df['home_runs'].rolling(window=10, min_periods=1).sum()\n",
            "<ipython-input-16-3e8409e9f64d>:89: PerformanceWarning: DataFrame is highly fragmented.  This is usually the result of calling `frame.insert` many times, which has poor performance.  Consider joining all columns at once using pd.concat(axis=1) instead. To get a de-fragmented frame, use `newframe = frame.copy()`\n",
            "  df['cumulative_wins'] = df['home_pitching_overall_games_win'].rolling(window=10, min_periods=1).sum()\n",
            "<ipython-input-16-3e8409e9f64d>:92: PerformanceWarning: DataFrame is highly fragmented.  This is usually the result of calling `frame.insert` many times, which has poor performance.  Consider joining all columns at once using pd.concat(axis=1) instead. To get a de-fragmented frame, use `newframe = frame.copy()`\n",
            "  df['offensive_power_index'] = df['home_hitting_overall_ops'] + df['home_hitting_overall_rbi'] + df['home_hitting_overall_seca']\n",
            "<ipython-input-16-3e8409e9f64d>:93: PerformanceWarning: DataFrame is highly fragmented.  This is usually the result of calling `frame.insert` many times, which has poor performance.  Consider joining all columns at once using pd.concat(axis=1) instead. To get a de-fragmented frame, use `newframe = frame.copy()`\n",
            "  df['defensive_efficiency_index'] = df['home_pitching_overall_whip'] + df['home_pitching_starters_outs_ktotal'] + df['home_pitching_overall_era']\n",
            "<ipython-input-16-3e8409e9f64d>:96: PerformanceWarning: DataFrame is highly fragmented.  This is usually the result of calling `frame.insert` many times, which has poor performance.  Consider joining all columns at once using pd.concat(axis=1) instead. To get a de-fragmented frame, use `newframe = frame.copy()`\n",
            "  df['rolling_avg_runs'] = df['home_hitting_overall_runs_total'].rolling(window=5, min_periods=1).mean()\n",
            "<ipython-input-16-3e8409e9f64d>:97: PerformanceWarning: DataFrame is highly fragmented.  This is usually the result of calling `frame.insert` many times, which has poor performance.  Consider joining all columns at once using pd.concat(axis=1) instead. To get a de-fragmented frame, use `newframe = frame.copy()`\n",
            "  df['rolling_era'] = df['home_pitching_overall_era'].rolling(window=5, min_periods=1).mean()\n",
            "<ipython-input-16-3e8409e9f64d>:100: PerformanceWarning: DataFrame is highly fragmented.  This is usually the result of calling `frame.insert` many times, which has poor performance.  Consider joining all columns at once using pd.concat(axis=1) instead. To get a de-fragmented frame, use `newframe = frame.copy()`\n",
            "  df['weighted_obp'] = df['home_hitting_overall_obp'] * df['home_hitting_overall_runs_total']\n",
            "<ipython-input-16-3e8409e9f64d>:101: PerformanceWarning: DataFrame is highly fragmented.  This is usually the result of calling `frame.insert` many times, which has poor performance.  Consider joining all columns at once using pd.concat(axis=1) instead. To get a de-fragmented frame, use `newframe = frame.copy()`\n",
            "  df['weighted_strikeouts'] = df['home_pitching_starters_outs_ktotal'] / (df['home_pitching_starters_games_win'] + 1)\n",
            "<ipython-input-16-3e8409e9f64d>:104: PerformanceWarning: DataFrame is highly fragmented.  This is usually the result of calling `frame.insert` many times, which has poor performance.  Consider joining all columns at once using pd.concat(axis=1) instead. To get a de-fragmented frame, use `newframe = frame.copy()`\n",
            "  df['high_attendance_flag'] = (df['attendance'] > 50000).astype(int)\n",
            "<ipython-input-16-3e8409e9f64d>:105: PerformanceWarning: DataFrame is highly fragmented.  This is usually the result of calling `frame.insert` many times, which has poor performance.  Consider joining all columns at once using pd.concat(axis=1) instead. To get a de-fragmented frame, use `newframe = frame.copy()`\n",
            "  df['high_era_flag'] = (df['home_pitching_overall_era'] > 4.00).astype(int)\n",
            "<ipython-input-16-3e8409e9f64d>:108: PerformanceWarning: DataFrame is highly fragmented.  This is usually the result of calling `frame.insert` many times, which has poor performance.  Consider joining all columns at once using pd.concat(axis=1) instead. To get a de-fragmented frame, use `newframe = frame.copy()`\n",
            "  df['win_streak_length'] = calculate_win_streak(df, 'home_name', 'winner_binary')\n"
          ]
        }
      ]
    },
    {
      "cell_type": "code",
      "source": [
        "# Optionally, check if there are any NaNs introduced by the rolling or division operations\n",
        "# Get the count of null values in each column\n",
        "null_counts = df.isnull().sum()\n",
        "\n",
        "# Filter the columns with null values\n",
        "null_counts = null_counts[null_counts > 0]\n",
        "\n",
        "# Display the columns with their respective null value counts\n",
        "print(null_counts)"
      ],
      "metadata": {
        "colab": {
          "base_uri": "https://localhost:8080/"
        },
        "id": "HEges3t96mwX",
        "outputId": "306870df-96cf-437a-992a-d2e3752ecc83"
      },
      "execution_count": 17,
      "outputs": [
        {
          "output_type": "stream",
          "name": "stdout",
          "text": [
            "home_risp             1427\n",
            "away_risp             1462\n",
            "home_run_hit_ratio     260\n",
            "away_run_hit_ratio     260\n",
            "home_k_bb_ratio        746\n",
            "away_k_bb_ratio        746\n",
            "dtype: int64\n"
          ]
        }
      ]
    },
    {
      "cell_type": "code",
      "source": [
        "# Identify columns with null values\n",
        "columns_with_nulls = df.columns[df.isnull().any()].tolist()\n",
        "\n",
        "# Identify numeric columns with null values\n",
        "numeric_columns_with_nulls = df.select_dtypes(include=['number']).columns[df.select_dtypes(include=['number']).isnull().any()].tolist()\n",
        "\n",
        "# Step 1: Group-Based Mean Imputation (based on home_name and away_name) for numeric columns\n",
        "for column in numeric_columns_with_nulls:\n",
        "    df[column] = df.groupby(['home_name', 'away_name'])[column].transform(lambda x: x.fillna(x.mean()))\n",
        "\n",
        "# Step 2: Overall Median Imputation for any remaining nulls in numeric columns\n",
        "for column in numeric_columns_with_nulls:\n",
        "    df[column].fillna(df[column].median(), inplace=True)\n",
        "\n",
        "# Step 3: Overall Mode Imputation for any remaining nulls in non-numeric columns\n",
        "non_numeric_columns_with_nulls = [col for col in columns_with_nulls if col not in numeric_columns_with_nulls]\n",
        "for column in non_numeric_columns_with_nulls:\n",
        "    df[column].fillna(df[column].mode()[0], inplace=True)"
      ],
      "metadata": {
        "id": "82W_1xWXLn78"
      },
      "execution_count": 18,
      "outputs": []
    },
    {
      "cell_type": "code",
      "source": [
        "# Convert the 'scheduled' column to datetime format\n",
        "df['scheduled'] = pd.to_datetime(df['scheduled'])\n",
        "\n",
        "# Extract relevant date and time features\n",
        "df['year'] = df['scheduled'].dt.year\n",
        "df['month'] = df['scheduled'].dt.month\n",
        "df['day'] = df['scheduled'].dt.day\n",
        "df['hour'] = df['scheduled'].dt.hour\n",
        "df['minute'] = df['scheduled'].dt.minute\n",
        "df['day_of_week'] = df['scheduled'].dt.dayofweek  # Monday=0, Sunday=6\n",
        "\n",
        "# Optionally, you can drop the original 'scheduled' column if not needed\n",
        "df = df.drop(columns=['scheduled'])"
      ],
      "metadata": {
        "colab": {
          "base_uri": "https://localhost:8080/"
        },
        "id": "ihZT2-0JrIho",
        "outputId": "5663bbb5-e2dd-4e30-fe34-fa378d72c6dc"
      },
      "execution_count": 20,
      "outputs": [
        {
          "output_type": "stream",
          "name": "stderr",
          "text": [
            "<ipython-input-20-27f28ace920a>:8: PerformanceWarning: DataFrame is highly fragmented.  This is usually the result of calling `frame.insert` many times, which has poor performance.  Consider joining all columns at once using pd.concat(axis=1) instead. To get a de-fragmented frame, use `newframe = frame.copy()`\n",
            "  df['hour'] = df['scheduled'].dt.hour\n",
            "<ipython-input-20-27f28ace920a>:9: PerformanceWarning: DataFrame is highly fragmented.  This is usually the result of calling `frame.insert` many times, which has poor performance.  Consider joining all columns at once using pd.concat(axis=1) instead. To get a de-fragmented frame, use `newframe = frame.copy()`\n",
            "  df['minute'] = df['scheduled'].dt.minute\n",
            "<ipython-input-20-27f28ace920a>:10: PerformanceWarning: DataFrame is highly fragmented.  This is usually the result of calling `frame.insert` many times, which has poor performance.  Consider joining all columns at once using pd.concat(axis=1) instead. To get a de-fragmented frame, use `newframe = frame.copy()`\n",
            "  df['day_of_week'] = df['scheduled'].dt.dayofweek  # Monday=0, Sunday=6\n"
          ]
        }
      ]
    },
    {
      "cell_type": "code",
      "source": [
        "pregame_features = [ 'year', 'month', 'day', 'hour','minute','day_of_week',\n",
        "    'home_name', 'away_name']\n",
        "\n",
        "all_features = [\n",
        "    'year', 'month', 'day', 'hour','minute','day_of_week',\n",
        "    'home_avg_runs', 'away_avg_runs', 'home_avg_hits', 'away_avg_hits',\n",
        "    'home_avg_errors', 'away_avg_errors', 'home_recent_runs', 'away_recent_runs',\n",
        "    'home_recent_hits', 'away_recent_hits', 'home_recent_errors', 'away_recent_errors',\n",
        "    'head_to_head_runs', 'home_win_rate', 'away_win_rate', 'home_run_diff',\n",
        "    'home_hit_diff', 'home_error_diff', 'total_runs', 'total_hits', 'total_errors',\n",
        "    'home_risp', 'away_risp', 'home_two_out_rbi', 'away_two_out_rbi', 'home_iso',\n",
        "    'away_iso', 'home_obp', 'away_obp', 'home_slg', 'away_slg', 'home_run_hit_ratio',\n",
        "    'away_run_hit_ratio', 'home_k_bb_ratio', 'away_k_bb_ratio',\n",
        "    'home_away_win_ratio', 'home_away_run_diff', 'home_away_era_diff',\n",
        "    'home_strikeout_to_walk_ratio', 'attendance_adjusted_performance',\n",
        "    'slugging_percentage_interaction', 'cumulative_home_runs',\n",
        "    'cumulative_wins', 'offensive_power_index', 'defensive_efficiency_index',\n",
        "    'rolling_avg_runs', 'rolling_era', 'weighted_obp', 'weighted_strikeouts',\n",
        "    'high_attendance_flag', 'high_era_flag', 'win_streak_length'\n",
        "]\n"
      ],
      "metadata": {
        "id": "p4hd8AfvhUUY"
      },
      "execution_count": 23,
      "outputs": []
    },
    {
      "cell_type": "code",
      "source": [
        "# List of columns that are not numerical\n",
        "non_numerical_columns = df[pregame_features].select_dtypes(exclude=['number']).columns.tolist()\n",
        "\n",
        "# Display the non-numerical columns\n",
        "print(non_numerical_columns)"
      ],
      "metadata": {
        "colab": {
          "base_uri": "https://localhost:8080/"
        },
        "id": "9xvEbQZ_RJex",
        "outputId": "f8c21c69-38fa-4b80-cd5b-7ade6f59c9da"
      },
      "execution_count": 24,
      "outputs": [
        {
          "output_type": "stream",
          "name": "stdout",
          "text": [
            "['home_name', 'away_name']\n"
          ]
        }
      ]
    },
    {
      "cell_type": "code",
      "source": [
        "# List of columns that are not numerical\n",
        "non_numerical_columns = df[all_features].select_dtypes(exclude=['number']).columns.tolist()\n",
        "\n",
        "# Display the non-numerical columns\n",
        "print(non_numerical_columns)"
      ],
      "metadata": {
        "colab": {
          "base_uri": "https://localhost:8080/"
        },
        "id": "jXgJ_2ZYROHx",
        "outputId": "6ea679cf-1837-4a69-c7a9-6aaca9c7da6e"
      },
      "execution_count": 25,
      "outputs": [
        {
          "output_type": "stream",
          "name": "stdout",
          "text": [
            "[]\n"
          ]
        }
      ]
    },
    {
      "cell_type": "code",
      "source": [
        "# Import necessary libraries\n",
        "from sklearn.preprocessing import LabelEncoder, OneHotEncoder\n",
        "import pandas as pd\n",
        "\n",
        "# Initialize LabelEncoder\n",
        "le = LabelEncoder()\n",
        "\n",
        "# Convert non-numerical columns to numerical using Label Encoding\n",
        "for col in ['home_name', 'away_name']:\n",
        "    df[col] = le.fit_transform(df[col])"
      ],
      "metadata": {
        "id": "DGO2u4l8NZ1_"
      },
      "execution_count": 26,
      "outputs": []
    },
    {
      "cell_type": "code",
      "source": [
        "from sklearn.model_selection import train_test_split\n",
        "\n",
        "# Assuming your target variable is named 'target'\n",
        "X_all = df[all_features]\n",
        "X_pregame = df[pregame_features]\n",
        "y = df['winner_binary']\n",
        "\n",
        "# Split for the first model\n",
        "X_all_train, X_all_test, y_train, y_test = train_test_split(X_all, y, test_size=0.3, random_state=42)\n",
        "\n"
      ],
      "metadata": {
        "id": "VJXG3Vnm91uS"
      },
      "execution_count": 27,
      "outputs": []
    },
    {
      "cell_type": "code",
      "source": [
        "import pandas as pd\n",
        "import numpy as np\n",
        "from sklearn.model_selection import train_test_split\n",
        "from sklearn.preprocessing import StandardScaler, OneHotEncoder\n",
        "from tensorflow.keras.models import Sequential\n",
        "from tensorflow.keras.layers import Dense, Dropout\n",
        "from tensorflow.keras.optimizers import Adam\n"
      ],
      "metadata": {
        "id": "Z08i-1x4IDlg"
      },
      "execution_count": 28,
      "outputs": []
    },
    {
      "cell_type": "code",
      "source": [
        "import numpy as np\n",
        "\n",
        "# Identify columns with infinity or very large values\n",
        "columns_with_infinity = X_all_train.columns[np.isinf(X_all_train).any()]\n",
        "columns_with_large_values = X_all_train.columns[(X_all_train.abs() > np.finfo(np.float64).max).any()]\n",
        "\n",
        "# Combine and print the columns\n",
        "problematic_columns = columns_with_infinity.union(columns_with_large_values)\n",
        "print(f\"Columns with infinity or very large values: {problematic_columns.tolist()}\")"
      ],
      "metadata": {
        "id": "SExraokBa9Hu",
        "colab": {
          "base_uri": "https://localhost:8080/"
        },
        "outputId": "c49f298c-b08c-4fd8-81b0-e7a34272b061"
      },
      "execution_count": 29,
      "outputs": [
        {
          "output_type": "stream",
          "name": "stdout",
          "text": [
            "Columns with infinity or very large values: ['home_risp', 'away_risp', 'home_run_hit_ratio', 'home_k_bb_ratio', 'away_k_bb_ratio']\n"
          ]
        }
      ]
    },
    {
      "cell_type": "code",
      "source": [
        "# columns with problematic values\n",
        "problematic_columns = ['home_risp', 'away_risp', 'home_run_hit_ratio', 'home_k_bb_ratio', 'away_k_bb_ratio']\n",
        "\n",
        "# Identify rows with infinity or very large values\n",
        "rows_with_problems = X_all_train[problematic_columns].apply(lambda x: np.isinf(x) | (x.abs() > np.finfo(np.float64).max), axis=1)\n",
        "\n",
        "# Remove rows with any problematic values\n",
        "X_all_train_cleaned = X_all_train[~rows_with_problems.any(axis=1)]\n",
        "y_train_cleaned = y_train[~rows_with_problems.any(axis=1)]\n",
        "\n",
        "# Similarly clean the test set (if required)\n",
        "rows_with_problems_test = X_all_test[problematic_columns].apply(lambda x: np.isinf(x) | (x.abs() > np.finfo(np.float64).max), axis=1)\n",
        "X_all_test_cleaned = X_all_test[~rows_with_problems_test.any(axis=1)]\n",
        "y_test_cleaned = y_test[~rows_with_problems_test.any(axis=1)]\n"
      ],
      "metadata": {
        "id": "cV7BVaO2XHW6"
      },
      "execution_count": 30,
      "outputs": []
    },
    {
      "cell_type": "markdown",
      "source": [
        "## Comprehensive Model"
      ],
      "metadata": {
        "id": "5A7S-aX1mafV"
      }
    },
    {
      "cell_type": "code",
      "source": [
        "from tensorflow.keras.layers import Input, Dense, Dropout\n",
        "from tensorflow.keras.models import Model\n",
        "\n",
        "# Standardizing features\n",
        "scaler = StandardScaler()\n",
        "X_train_scaled = scaler.fit_transform(X_all_train_cleaned)\n",
        "X_test_scaled = scaler.transform(X_all_test_cleaned)\n",
        "\n",
        "# Define the comprehensive model\n",
        "input_all = Input(shape=(len(all_features),))\n",
        "x = Dense(128, activation='relu')(input_all)\n",
        "x = Dropout(0.5)(x)\n",
        "x = Dense(64, activation='relu')(x)\n",
        "x = Dropout(0.5)(x)\n",
        "x = Dense(32, activation='relu')(x)\n",
        "output_all = Dense(1, activation='sigmoid')(x)\n",
        "comprehensive_model = Model(inputs=input_all, outputs=output_all)\n",
        "\n",
        "# Compile the model\n",
        "comprehensive_model.compile(loss='binary_crossentropy', optimizer=Adam(learning_rate=0.001), metrics=['accuracy'])\n",
        "\n",
        "# Train the model\n",
        "history = comprehensive_model.fit(X_train_scaled, y_train_cleaned, validation_data=(X_test_scaled, y_test_cleaned), epochs=20, batch_size=32)\n",
        "\n",
        "# Evaluate the model\n",
        "test_loss, test_acc = comprehensive_model.evaluate(X_test_scaled, y_test_cleaned)\n",
        "print(f'Test Accuracy: {test_acc:.3f}')\n"
      ],
      "metadata": {
        "colab": {
          "base_uri": "https://localhost:8080/"
        },
        "id": "q4JIedtfK3Ge",
        "outputId": "f3124fed-b034-4bbb-f1d7-e15c11ed28a2"
      },
      "execution_count": 33,
      "outputs": [
        {
          "output_type": "stream",
          "name": "stdout",
          "text": [
            "Epoch 1/20\n",
            "\u001b[1m259/259\u001b[0m \u001b[32m━━━━━━━━━━━━━━━━━━━━\u001b[0m\u001b[37m\u001b[0m \u001b[1m4s\u001b[0m 7ms/step - accuracy: 0.5152 - loss: 0.7274 - val_accuracy: 0.5932 - val_loss: 0.6760\n",
            "Epoch 2/20\n",
            "\u001b[1m259/259\u001b[0m \u001b[32m━━━━━━━━━━━━━━━━━━━━\u001b[0m\u001b[37m\u001b[0m \u001b[1m2s\u001b[0m 7ms/step - accuracy: 0.5568 - loss: 0.6883 - val_accuracy: 0.6135 - val_loss: 0.6642\n",
            "Epoch 3/20\n",
            "\u001b[1m259/259\u001b[0m \u001b[32m━━━━━━━━━━━━━━━━━━━━\u001b[0m\u001b[37m\u001b[0m \u001b[1m3s\u001b[0m 7ms/step - accuracy: 0.5876 - loss: 0.6669 - val_accuracy: 0.6160 - val_loss: 0.6541\n",
            "Epoch 4/20\n",
            "\u001b[1m259/259\u001b[0m \u001b[32m━━━━━━━━━━━━━━━━━━━━\u001b[0m\u001b[37m\u001b[0m \u001b[1m1s\u001b[0m 5ms/step - accuracy: 0.6043 - loss: 0.6592 - val_accuracy: 0.6276 - val_loss: 0.6416\n",
            "Epoch 5/20\n",
            "\u001b[1m259/259\u001b[0m \u001b[32m━━━━━━━━━━━━━━━━━━━━\u001b[0m\u001b[37m\u001b[0m \u001b[1m1s\u001b[0m 5ms/step - accuracy: 0.6340 - loss: 0.6360 - val_accuracy: 0.6443 - val_loss: 0.6369\n",
            "Epoch 6/20\n",
            "\u001b[1m259/259\u001b[0m \u001b[32m━━━━━━━━━━━━━━━━━━━━\u001b[0m\u001b[37m\u001b[0m \u001b[1m2s\u001b[0m 3ms/step - accuracy: 0.6360 - loss: 0.6391 - val_accuracy: 0.6435 - val_loss: 0.6334\n",
            "Epoch 7/20\n",
            "\u001b[1m259/259\u001b[0m \u001b[32m━━━━━━━━━━━━━━━━━━━━\u001b[0m\u001b[37m\u001b[0m \u001b[1m1s\u001b[0m 4ms/step - accuracy: 0.6380 - loss: 0.6322 - val_accuracy: 0.6413 - val_loss: 0.6273\n",
            "Epoch 8/20\n",
            "\u001b[1m259/259\u001b[0m \u001b[32m━━━━━━━━━━━━━━━━━━━━\u001b[0m\u001b[37m\u001b[0m \u001b[1m1s\u001b[0m 3ms/step - accuracy: 0.6406 - loss: 0.6255 - val_accuracy: 0.6396 - val_loss: 0.6224\n",
            "Epoch 9/20\n",
            "\u001b[1m259/259\u001b[0m \u001b[32m━━━━━━━━━━━━━━━━━━━━\u001b[0m\u001b[37m\u001b[0m \u001b[1m1s\u001b[0m 3ms/step - accuracy: 0.6420 - loss: 0.6191 - val_accuracy: 0.6438 - val_loss: 0.6240\n",
            "Epoch 10/20\n",
            "\u001b[1m259/259\u001b[0m \u001b[32m━━━━━━━━━━━━━━━━━━━━\u001b[0m\u001b[37m\u001b[0m \u001b[1m1s\u001b[0m 3ms/step - accuracy: 0.6505 - loss: 0.6136 - val_accuracy: 0.6502 - val_loss: 0.6193\n",
            "Epoch 11/20\n",
            "\u001b[1m259/259\u001b[0m \u001b[32m━━━━━━━━━━━━━━━━━━━━\u001b[0m\u001b[37m\u001b[0m \u001b[1m1s\u001b[0m 3ms/step - accuracy: 0.6495 - loss: 0.6098 - val_accuracy: 0.6399 - val_loss: 0.6192\n",
            "Epoch 12/20\n",
            "\u001b[1m259/259\u001b[0m \u001b[32m━━━━━━━━━━━━━━━━━━━━\u001b[0m\u001b[37m\u001b[0m \u001b[1m1s\u001b[0m 3ms/step - accuracy: 0.6558 - loss: 0.6068 - val_accuracy: 0.6474 - val_loss: 0.6168\n",
            "Epoch 13/20\n",
            "\u001b[1m259/259\u001b[0m \u001b[32m━━━━━━━━━━━━━━━━━━━━\u001b[0m\u001b[37m\u001b[0m \u001b[1m1s\u001b[0m 3ms/step - accuracy: 0.6554 - loss: 0.6012 - val_accuracy: 0.6529 - val_loss: 0.6173\n",
            "Epoch 14/20\n",
            "\u001b[1m259/259\u001b[0m \u001b[32m━━━━━━━━━━━━━━━━━━━━\u001b[0m\u001b[37m\u001b[0m \u001b[1m2s\u001b[0m 5ms/step - accuracy: 0.6521 - loss: 0.5962 - val_accuracy: 0.6507 - val_loss: 0.6166\n",
            "Epoch 15/20\n",
            "\u001b[1m259/259\u001b[0m \u001b[32m━━━━━━━━━━━━━━━━━━━━\u001b[0m\u001b[37m\u001b[0m \u001b[1m1s\u001b[0m 5ms/step - accuracy: 0.6643 - loss: 0.5959 - val_accuracy: 0.6482 - val_loss: 0.6151\n",
            "Epoch 16/20\n",
            "\u001b[1m259/259\u001b[0m \u001b[32m━━━━━━━━━━━━━━━━━━━━\u001b[0m\u001b[37m\u001b[0m \u001b[1m1s\u001b[0m 5ms/step - accuracy: 0.6709 - loss: 0.5825 - val_accuracy: 0.6463 - val_loss: 0.6149\n",
            "Epoch 17/20\n",
            "\u001b[1m259/259\u001b[0m \u001b[32m━━━━━━━━━━━━━━━━━━━━\u001b[0m\u001b[37m\u001b[0m \u001b[1m1s\u001b[0m 4ms/step - accuracy: 0.6733 - loss: 0.5822 - val_accuracy: 0.6410 - val_loss: 0.6149\n",
            "Epoch 18/20\n",
            "\u001b[1m259/259\u001b[0m \u001b[32m━━━━━━━━━━━━━━━━━━━━\u001b[0m\u001b[37m\u001b[0m \u001b[1m1s\u001b[0m 3ms/step - accuracy: 0.6697 - loss: 0.5913 - val_accuracy: 0.6432 - val_loss: 0.6136\n",
            "Epoch 19/20\n",
            "\u001b[1m259/259\u001b[0m \u001b[32m━━━━━━━━━━━━━━━━━━━━\u001b[0m\u001b[37m\u001b[0m \u001b[1m1s\u001b[0m 3ms/step - accuracy: 0.6661 - loss: 0.5957 - val_accuracy: 0.6557 - val_loss: 0.6123\n",
            "Epoch 20/20\n",
            "\u001b[1m259/259\u001b[0m \u001b[32m━━━━━━━━━━━━━━━━━━━━\u001b[0m\u001b[37m\u001b[0m \u001b[1m1s\u001b[0m 3ms/step - accuracy: 0.6724 - loss: 0.5812 - val_accuracy: 0.6507 - val_loss: 0.6134\n",
            "\u001b[1m113/113\u001b[0m \u001b[32m━━━━━━━━━━━━━━━━━━━━\u001b[0m\u001b[37m\u001b[0m \u001b[1m0s\u001b[0m 1ms/step - accuracy: 0.6558 - loss: 0.6132\n",
            "Test Accuracy: 0.651\n"
          ]
        }
      ]
    },
    {
      "cell_type": "markdown",
      "source": [
        "## Transfer Learning"
      ],
      "metadata": {
        "id": "knqJ1vYUmlHS"
      }
    },
    {
      "cell_type": "code",
      "source": [
        "# Define the prediction model with betting odds features\n",
        "input_pred = Input(shape=(len(pregame_features),))\n",
        "x_pred = Dense(128, activation='relu')(input_pred)\n",
        "x_pred = Dropout(0.5)(x_pred)\n",
        "x_pred = Dense(64, activation='relu')(x_pred)\n",
        "x_pred = Dropout(0.5)(x_pred)\n",
        "x_pred = Dense(32, activation='relu')(x_pred)\n",
        "output_pred = Dense(1, activation='sigmoid')(x_pred)\n",
        "prediction_model = Model(inputs=input_pred, outputs=output_pred)\n",
        "\n",
        "# Transfer weights from the comprehensive model to the prediction model for the hidden layers\n",
        "# Skipping the input layer and using the subsequent layers' weights\n",
        "\n",
        "comprehensive_model_layers = [layer for layer in comprehensive_model.layers if 'dense' in layer.name or 'dropout' in layer.name]\n",
        "prediction_model_layers = [layer for layer in prediction_model.layers if 'dense' in layer.name or 'dropout' in layer.name]\n",
        "\n",
        "for comp_layer, pred_layer in zip(comprehensive_model_layers[1:], prediction_model_layers[1:]):\n",
        "    pred_layer.set_weights(comp_layer.get_weights())\n",
        "\n",
        "# Compile the prediction model\n",
        "prediction_model.compile(optimizer='adam', loss='binary_crossentropy', metrics=['accuracy'])"
      ],
      "metadata": {
        "id": "nE4Gx2RvK3EL"
      },
      "execution_count": 34,
      "outputs": []
    },
    {
      "cell_type": "code",
      "source": [
        "# Train the model\n",
        "from sklearn.metrics import accuracy_score\n",
        "\n",
        "# Assuming X_pregame contains the features for pregame analysis and y contains the labels\n",
        "X_pregame_train, X_pregame_test, y_train_pregame, y_test_pregame = train_test_split(X_pregame, y, test_size=0.3, random_state=42)\n",
        "\n",
        "history_pregame = prediction_model.fit(X_pregame_train, y_train_pregame, validation_data=(X_pregame_test, y_test_pregame), epochs=10, batch_size=32)\n",
        "\n",
        "# Make predictions\n",
        "predictions = prediction_model.predict(X_pregame_test)\n",
        "\n",
        "# Convert probabilities to binary predictions\n",
        "predictions_binary = (predictions > 0.5).astype(int)\n",
        "\n",
        "# Calculate accuracy\n",
        "accuracy = accuracy_score(y_test_pregame, predictions_binary)\n",
        "print(f'Test Accuracy: {accuracy:.3f}')"
      ],
      "metadata": {
        "id": "ahABKmObK3B7",
        "colab": {
          "base_uri": "https://localhost:8080/"
        },
        "outputId": "6d16d168-b952-42e0-efad-8e83e73fb9de"
      },
      "execution_count": 35,
      "outputs": [
        {
          "output_type": "stream",
          "name": "stdout",
          "text": [
            "Epoch 1/10\n",
            "\u001b[1m473/473\u001b[0m \u001b[32m━━━━━━━━━━━━━━━━━━━━\u001b[0m\u001b[37m\u001b[0m \u001b[1m5s\u001b[0m 5ms/step - accuracy: 0.4946 - loss: 10.1907 - val_accuracy: 0.5224 - val_loss: 0.6970\n",
            "Epoch 2/10\n",
            "\u001b[1m473/473\u001b[0m \u001b[32m━━━━━━━━━━━━━━━━━━━━\u001b[0m\u001b[37m\u001b[0m \u001b[1m2s\u001b[0m 3ms/step - accuracy: 0.5184 - loss: 0.8047 - val_accuracy: 0.5224 - val_loss: 0.6927\n",
            "Epoch 3/10\n",
            "\u001b[1m473/473\u001b[0m \u001b[32m━━━━━━━━━━━━━━━━━━━━\u001b[0m\u001b[37m\u001b[0m \u001b[1m1s\u001b[0m 3ms/step - accuracy: 0.5104 - loss: 0.7272 - val_accuracy: 0.5224 - val_loss: 0.6921\n",
            "Epoch 4/10\n",
            "\u001b[1m473/473\u001b[0m \u001b[32m━━━━━━━━━━━━━━━━━━━━\u001b[0m\u001b[37m\u001b[0m \u001b[1m3s\u001b[0m 3ms/step - accuracy: 0.5118 - loss: 0.7070 - val_accuracy: 0.5224 - val_loss: 0.6922\n",
            "Epoch 5/10\n",
            "\u001b[1m473/473\u001b[0m \u001b[32m━━━━━━━━━━━━━━━━━━━━\u001b[0m\u001b[37m\u001b[0m \u001b[1m2s\u001b[0m 3ms/step - accuracy: 0.5323 - loss: 0.6989 - val_accuracy: 0.5224 - val_loss: 0.6921\n",
            "Epoch 6/10\n",
            "\u001b[1m473/473\u001b[0m \u001b[32m━━━━━━━━━━━━━━━━━━━━\u001b[0m\u001b[37m\u001b[0m \u001b[1m1s\u001b[0m 3ms/step - accuracy: 0.5141 - loss: 0.7035 - val_accuracy: 0.5224 - val_loss: 0.6922\n",
            "Epoch 7/10\n",
            "\u001b[1m473/473\u001b[0m \u001b[32m━━━━━━━━━━━━━━━━━━━━\u001b[0m\u001b[37m\u001b[0m \u001b[1m4s\u001b[0m 5ms/step - accuracy: 0.5245 - loss: 0.6936 - val_accuracy: 0.5224 - val_loss: 0.6922\n",
            "Epoch 8/10\n",
            "\u001b[1m473/473\u001b[0m \u001b[32m━━━━━━━━━━━━━━━━━━━━\u001b[0m\u001b[37m\u001b[0m \u001b[1m2s\u001b[0m 3ms/step - accuracy: 0.5174 - loss: 0.6942 - val_accuracy: 0.5224 - val_loss: 0.6922\n",
            "Epoch 9/10\n",
            "\u001b[1m473/473\u001b[0m \u001b[32m━━━━━━━━━━━━━━━━━━━━\u001b[0m\u001b[37m\u001b[0m \u001b[1m1s\u001b[0m 3ms/step - accuracy: 0.5239 - loss: 0.6956 - val_accuracy: 0.5224 - val_loss: 0.6921\n",
            "Epoch 10/10\n",
            "\u001b[1m473/473\u001b[0m \u001b[32m━━━━━━━━━━━━━━━━━━━━\u001b[0m\u001b[37m\u001b[0m \u001b[1m1s\u001b[0m 3ms/step - accuracy: 0.5230 - loss: 0.6929 - val_accuracy: 0.5224 - val_loss: 0.6922\n",
            "\u001b[1m203/203\u001b[0m \u001b[32m━━━━━━━━━━━━━━━━━━━━\u001b[0m\u001b[37m\u001b[0m \u001b[1m0s\u001b[0m 1ms/step\n",
            "Test Accuracy: 0.522\n"
          ]
        }
      ]
    }
  ]
}